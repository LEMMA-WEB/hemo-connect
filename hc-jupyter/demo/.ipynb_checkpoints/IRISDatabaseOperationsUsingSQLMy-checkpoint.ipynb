{
 "cells": [
  {
   "cell_type": "markdown",
   "id": "195e25a8-270a-41d0-9956-a64a63f9df9e",
   "metadata": {},
   "source": [
    "# Helpful links:\n",
    "Database connection:\n",
    "https://docs.intersystems.com/irislatest/csp/docbook/DocBook.UI.Page.cls?KEY=BPYNAT_pyapi\n",
    "\n",
    "SQL:\n",
    "https://docs.intersystems.com/irislatest/csp/docbook/DocBook.UI.Page.cls?KEY=RSQL_createtable\n",
    "\n",
    "Data Types:\n",
    "https://docs.intersystems.com/irislatest/csp/docbook/DocBook.UI.Page.cls?KEY=RSQL_datatype"
   ]
  },
  {
   "cell_type": "markdown",
   "id": "d326e620-4cb1-4b1c-b848-ca44eb1202e3",
   "metadata": {},
   "source": [
    "# Loading the data to a dataframe\n",
    "This tutorial covers how to use IRIS as a vector database. \n",
    "\n",
    "For this tutorial, we will use a dataset of 2.2k online reviews of scotch (\n",
    "dataset from https://www.kaggle.com/datasets/koki25ando/22000-scotch-whisky-reviews) . With our latest vector database functionality, we can leverage the latest embedding models to run semantic search on the online reviews of scotch whiskeys. In addition, we'll be able to apply filters on columns with structured data. For example, we will be able to search for whiskeys that are priced under $100, and are 'earthy, smooth, and easy to drink'. Let's find our perfect whiskey!"
   ]
  },
  {
   "cell_type": "code",
   "execution_count": 1,
   "id": "6282dce0-f410-4e99-9d07-ea0737d31712",
   "metadata": {},
   "outputs": [
    {
     "data": {
      "text/html": [
       "<div>\n",
       "<style scoped>\n",
       "    .dataframe tbody tr th:only-of-type {\n",
       "        vertical-align: middle;\n",
       "    }\n",
       "\n",
       "    .dataframe tbody tr th {\n",
       "        vertical-align: top;\n",
       "    }\n",
       "\n",
       "    .dataframe thead th {\n",
       "        text-align: right;\n",
       "    }\n",
       "</style>\n",
       "<table border=\"1\" class=\"dataframe\">\n",
       "  <thead>\n",
       "    <tr style=\"text-align: right;\">\n",
       "      <th></th>\n",
       "      <th>ic_amb_zad</th>\n",
       "      <th>ic_amb_karta</th>\n",
       "      <th>ic_pac</th>\n",
       "      <th>dat_zad</th>\n",
       "      <th>cas_zad</th>\n",
       "      <th>prac_od</th>\n",
       "      <th>dg_kod</th>\n",
       "      <th>i_dg_kod</th>\n",
       "      <th>text_dg</th>\n",
       "      <th>i_text_dg</th>\n",
       "      <th>poz_text</th>\n",
       "      <th>amb_zaz_text</th>\n",
       "    </tr>\n",
       "  </thead>\n",
       "  <tbody>\n",
       "    <tr>\n",
       "      <th>0</th>\n",
       "      <td>25775488</td>\n",
       "      <td>3702287</td>\n",
       "      <td>257353</td>\n",
       "      <td>2023-01-09</td>\n",
       "      <td>14:47:00</td>\n",
       "      <td>41742</td>\n",
       "      <td>NaN</td>\n",
       "      <td>C911</td>\n",
       "      <td>NaN</td>\n",
       "      <td>Chronická lymfocytická leukemie z B-buněk     ...</td>\n",
       "      <td>NaN</td>\n",
       "      <td>Odběr:09.01.2023 10:53 -----------------------...</td>\n",
       "    </tr>\n",
       "    <tr>\n",
       "      <th>1</th>\n",
       "      <td>26043815</td>\n",
       "      <td>4712677</td>\n",
       "      <td>1773067</td>\n",
       "      <td>2023-01-09</td>\n",
       "      <td>13:11:00</td>\n",
       "      <td>41742</td>\n",
       "      <td>NaN</td>\n",
       "      <td>C911</td>\n",
       "      <td>calquence                                     ...</td>\n",
       "      <td>Chronická lymfocytická leukemie z B-buněk     ...</td>\n",
       "      <td>NaN</td>\n",
       "      <td>Počátek vyšetření: 09.01.2023 12:53 Odběr:09.0...</td>\n",
       "    </tr>\n",
       "    <tr>\n",
       "      <th>2</th>\n",
       "      <td>26015332</td>\n",
       "      <td>2480460</td>\n",
       "      <td>3436</td>\n",
       "      <td>2023-01-09</td>\n",
       "      <td>15:06:00</td>\n",
       "      <td>41742</td>\n",
       "      <td>NaN</td>\n",
       "      <td>C911</td>\n",
       "      <td>venetoklax příjem IHOK                        ...</td>\n",
       "      <td>Chronická lymfocytická leukemie z B-buněk     ...</td>\n",
       "      <td>NaN</td>\n",
       "      <td>studie LOXO 20022, pacient číslo 2201-440 plat...</td>\n",
       "    </tr>\n",
       "    <tr>\n",
       "      <th>3</th>\n",
       "      <td>25567942</td>\n",
       "      <td>5809559</td>\n",
       "      <td>2135408</td>\n",
       "      <td>2023-01-09</td>\n",
       "      <td>15:04:00</td>\n",
       "      <td>41742</td>\n",
       "      <td>NaN</td>\n",
       "      <td>C911</td>\n",
       "      <td>kontrola                                      ...</td>\n",
       "      <td>Chronická lymfocytická leukemie z B-buněk     ...</td>\n",
       "      <td>NaN</td>\n",
       "      <td>Počátek vyšetření: 09.01.2023 14:39 Odběr:09.0...</td>\n",
       "    </tr>\n",
       "    <tr>\n",
       "      <th>4</th>\n",
       "      <td>25833197</td>\n",
       "      <td>6059137</td>\n",
       "      <td>86335</td>\n",
       "      <td>2023-01-09</td>\n",
       "      <td>15:09:00</td>\n",
       "      <td>41742</td>\n",
       "      <td>NaN</td>\n",
       "      <td>C911</td>\n",
       "      <td>imbruvica                                     ...</td>\n",
       "      <td>Chronická lymfocytická leukemie z B-buněk     ...</td>\n",
       "      <td>NaN</td>\n",
       "      <td>Odběr:09.01.2023 10:54 -----------------------...</td>\n",
       "    </tr>\n",
       "  </tbody>\n",
       "</table>\n",
       "</div>"
      ],
      "text/plain": [
       "   ic_amb_zad  ic_amb_karta   ic_pac     dat_zad   cas_zad  prac_od dg_kod  \\\n",
       "0    25775488       3702287   257353  2023-01-09  14:47:00    41742    NaN   \n",
       "1    26043815       4712677  1773067  2023-01-09  13:11:00    41742    NaN   \n",
       "2    26015332       2480460     3436  2023-01-09  15:06:00    41742    NaN   \n",
       "3    25567942       5809559  2135408  2023-01-09  15:04:00    41742    NaN   \n",
       "4    25833197       6059137    86335  2023-01-09  15:09:00    41742    NaN   \n",
       "\n",
       "  i_dg_kod                                            text_dg  \\\n",
       "0    C911                                                 NaN   \n",
       "1    C911   calquence                                     ...   \n",
       "2    C911   venetoklax příjem IHOK                        ...   \n",
       "3    C911   kontrola                                      ...   \n",
       "4    C911   imbruvica                                     ...   \n",
       "\n",
       "                                           i_text_dg poz_text  \\\n",
       "0  Chronická lymfocytická leukemie z B-buněk     ...      NaN   \n",
       "1  Chronická lymfocytická leukemie z B-buněk     ...      NaN   \n",
       "2  Chronická lymfocytická leukemie z B-buněk     ...      NaN   \n",
       "3  Chronická lymfocytická leukemie z B-buněk     ...      NaN   \n",
       "4  Chronická lymfocytická leukemie z B-buněk     ...      NaN   \n",
       "\n",
       "                                        amb_zaz_text  \n",
       "0  Odběr:09.01.2023 10:53 -----------------------...  \n",
       "1  Počátek vyšetření: 09.01.2023 12:53 Odběr:09.0...  \n",
       "2  studie LOXO 20022, pacient číslo 2201-440 plat...  \n",
       "3  Počátek vyšetření: 09.01.2023 14:39 Odběr:09.0...  \n",
       "4  Odběr:09.01.2023 10:54 -----------------------...  "
      ]
     },
     "execution_count": 1,
     "metadata": {},
     "output_type": "execute_result"
    }
   ],
   "source": [
    "import pandas as pd\n",
    "import csv\n",
    "\n",
    "\n",
    "# Load the CSV file\n",
    "df = pd.read_csv('../data/B-IHOK-AH_AMB-FINAL.csv', sep=\"|\", on_bad_lines=\"skip\")\n",
    "\n",
    "# View the data\n",
    "df.head()\n"
   ]
  },
  {
   "cell_type": "code",
   "execution_count": 2,
   "id": "e2e33ce9-25f3-4fd5-bdf1-d8f069b85139",
   "metadata": {
    "scrolled": true
   },
   "outputs": [
    {
     "data": {
      "text/html": [
       "<div>\n",
       "<style scoped>\n",
       "    .dataframe tbody tr th:only-of-type {\n",
       "        vertical-align: middle;\n",
       "    }\n",
       "\n",
       "    .dataframe tbody tr th {\n",
       "        vertical-align: top;\n",
       "    }\n",
       "\n",
       "    .dataframe thead th {\n",
       "        text-align: right;\n",
       "    }\n",
       "</style>\n",
       "<table border=\"1\" class=\"dataframe\">\n",
       "  <thead>\n",
       "    <tr style=\"text-align: right;\">\n",
       "      <th></th>\n",
       "      <th>ic_amb_zad</th>\n",
       "      <th>ic_amb_karta</th>\n",
       "      <th>ic_pac</th>\n",
       "      <th>dat_zad</th>\n",
       "      <th>cas_zad</th>\n",
       "      <th>prac_od</th>\n",
       "      <th>dg_kod</th>\n",
       "      <th>i_dg_kod</th>\n",
       "      <th>text_dg</th>\n",
       "      <th>i_text_dg</th>\n",
       "      <th>poz_text</th>\n",
       "      <th>amb_zaz_text</th>\n",
       "    </tr>\n",
       "  </thead>\n",
       "  <tbody>\n",
       "    <tr>\n",
       "      <th>0</th>\n",
       "      <td>25775488</td>\n",
       "      <td>3702287</td>\n",
       "      <td>257353</td>\n",
       "      <td>2023-01-09</td>\n",
       "      <td>14:47:00</td>\n",
       "      <td>41742</td>\n",
       "      <td></td>\n",
       "      <td>C911</td>\n",
       "      <td></td>\n",
       "      <td>Chronická lymfocytická leukemie z B-buněk     ...</td>\n",
       "      <td></td>\n",
       "      <td>Odběr:09.01.2023 10:53 -----------------------...</td>\n",
       "    </tr>\n",
       "    <tr>\n",
       "      <th>1</th>\n",
       "      <td>26043815</td>\n",
       "      <td>4712677</td>\n",
       "      <td>1773067</td>\n",
       "      <td>2023-01-09</td>\n",
       "      <td>13:11:00</td>\n",
       "      <td>41742</td>\n",
       "      <td></td>\n",
       "      <td>C911</td>\n",
       "      <td>calquence                                     ...</td>\n",
       "      <td>Chronická lymfocytická leukemie z B-buněk     ...</td>\n",
       "      <td></td>\n",
       "      <td>Počátek vyšetření: 09.01.2023 12:53 Odběr:09.0...</td>\n",
       "    </tr>\n",
       "    <tr>\n",
       "      <th>2</th>\n",
       "      <td>26015332</td>\n",
       "      <td>2480460</td>\n",
       "      <td>3436</td>\n",
       "      <td>2023-01-09</td>\n",
       "      <td>15:06:00</td>\n",
       "      <td>41742</td>\n",
       "      <td></td>\n",
       "      <td>C911</td>\n",
       "      <td>venetoklax příjem IHOK                        ...</td>\n",
       "      <td>Chronická lymfocytická leukemie z B-buněk     ...</td>\n",
       "      <td></td>\n",
       "      <td>studie LOXO 20022, pacient číslo 2201-440 plat...</td>\n",
       "    </tr>\n",
       "    <tr>\n",
       "      <th>3</th>\n",
       "      <td>25567942</td>\n",
       "      <td>5809559</td>\n",
       "      <td>2135408</td>\n",
       "      <td>2023-01-09</td>\n",
       "      <td>15:04:00</td>\n",
       "      <td>41742</td>\n",
       "      <td></td>\n",
       "      <td>C911</td>\n",
       "      <td>kontrola                                      ...</td>\n",
       "      <td>Chronická lymfocytická leukemie z B-buněk     ...</td>\n",
       "      <td></td>\n",
       "      <td>Počátek vyšetření: 09.01.2023 14:39 Odběr:09.0...</td>\n",
       "    </tr>\n",
       "    <tr>\n",
       "      <th>4</th>\n",
       "      <td>25833197</td>\n",
       "      <td>6059137</td>\n",
       "      <td>86335</td>\n",
       "      <td>2023-01-09</td>\n",
       "      <td>15:09:00</td>\n",
       "      <td>41742</td>\n",
       "      <td></td>\n",
       "      <td>C911</td>\n",
       "      <td>imbruvica                                     ...</td>\n",
       "      <td>Chronická lymfocytická leukemie z B-buněk     ...</td>\n",
       "      <td></td>\n",
       "      <td>Odběr:09.01.2023 10:54 -----------------------...</td>\n",
       "    </tr>\n",
       "  </tbody>\n",
       "</table>\n",
       "</div>"
      ],
      "text/plain": [
       "   ic_amb_zad  ic_amb_karta   ic_pac     dat_zad   cas_zad  prac_od dg_kod  \\\n",
       "0    25775488       3702287   257353  2023-01-09  14:47:00    41742          \n",
       "1    26043815       4712677  1773067  2023-01-09  13:11:00    41742          \n",
       "2    26015332       2480460     3436  2023-01-09  15:06:00    41742          \n",
       "3    25567942       5809559  2135408  2023-01-09  15:04:00    41742          \n",
       "4    25833197       6059137    86335  2023-01-09  15:09:00    41742          \n",
       "\n",
       "  i_dg_kod                                            text_dg  \\\n",
       "0    C911                                                       \n",
       "1    C911   calquence                                     ...   \n",
       "2    C911   venetoklax příjem IHOK                        ...   \n",
       "3    C911   kontrola                                      ...   \n",
       "4    C911   imbruvica                                     ...   \n",
       "\n",
       "                                           i_text_dg poz_text  \\\n",
       "0  Chronická lymfocytická leukemie z B-buněk     ...            \n",
       "1  Chronická lymfocytická leukemie z B-buněk     ...            \n",
       "2  Chronická lymfocytická leukemie z B-buněk     ...            \n",
       "3  Chronická lymfocytická leukemie z B-buněk     ...            \n",
       "4  Chronická lymfocytická leukemie z B-buněk     ...            \n",
       "\n",
       "                                        amb_zaz_text  \n",
       "0  Odběr:09.01.2023 10:53 -----------------------...  \n",
       "1  Počátek vyšetření: 09.01.2023 12:53 Odběr:09.0...  \n",
       "2  studie LOXO 20022, pacient číslo 2201-440 plat...  \n",
       "3  Počátek vyšetření: 09.01.2023 14:39 Odběr:09.0...  \n",
       "4  Odběr:09.01.2023 10:54 -----------------------...  "
      ]
     },
     "execution_count": 2,
     "metadata": {},
     "output_type": "execute_result"
    }
   ],
   "source": [
    "# Clean data\n",
    "# Remove the specified columns\n",
    "#df.drop(['currency'], axis=1, inplace=True)\n",
    "\n",
    "# Drop the first column\n",
    "#df.drop(columns=df.columns[0], inplace=True)\n",
    "\n",
    "# Remove rows without a price\n",
    "#df.dropna(subset=['price'], inplace=True)\n",
    "\n",
    "# Ensure values in 'price' are numbers\n",
    "#df = df[pd.to_numeric(df['price'], errors='coerce').notna()]\n",
    "\n",
    "# Replace NaN values in other columns with an empty string\n",
    "df.fillna('', inplace=True)\n",
    "df.truncate()\n",
    "\n",
    "# View cleaned data\n",
    "df.head()"
   ]
  },
  {
   "cell_type": "markdown",
   "id": "1bf38a1b-a8e5-423f-b52d-aba618b90994",
   "metadata": {},
   "source": [
    "# IRIS database operations"
   ]
  },
  {
   "cell_type": "code",
   "execution_count": 3,
   "id": "3ce74efa-5122-4f3d-81fe-2152dcd9eff7",
   "metadata": {},
   "outputs": [],
   "source": [
    "import iris\n",
    "import time\n",
    "import os"
   ]
  },
  {
   "cell_type": "markdown",
   "id": "aa211d40-7b22-4c04-9f06-aa192d4d52e0",
   "metadata": {},
   "source": [
    "## Database connection settings"
   ]
  },
  {
   "cell_type": "code",
   "execution_count": 4,
   "id": "a37a03e4-12b8-44b7-834f-2a7b0b9503f5",
   "metadata": {},
   "outputs": [],
   "source": [
    "username = 'demo'\n",
    "password = 'demo'\n",
    "hostname = os.getenv('IRIS_HOSTNAME', 'localhost')\n",
    "port = '1972' \n",
    "namespace = 'USER'\n",
    "CONNECTION_STRING = f\"{hostname}:{port}/{namespace}\""
   ]
  },
  {
   "cell_type": "code",
   "execution_count": 5,
   "id": "ec14f3e5-38d6-4f17-aa72-fb80ecbd9721",
   "metadata": {},
   "outputs": [
    {
     "name": "stdout",
     "output_type": "stream",
     "text": [
      "localhost:1972/USER\n"
     ]
    }
   ],
   "source": [
    "print(CONNECTION_STRING)"
   ]
  },
  {
   "cell_type": "code",
   "execution_count": 6,
   "id": "d89d3987-1e89-4f1a-86cb-cf377ef63d3c",
   "metadata": {},
   "outputs": [],
   "source": [
    "# Note: Ideally conn and cursor should be used with context manager or with try-execpt-finally \n",
    "conn = iris.connect(CONNECTION_STRING, username, password)\n",
    "cursor = conn.cursor()"
   ]
  },
  {
   "cell_type": "markdown",
   "id": "4b483391-d6ba-446b-af06-3e4e88098642",
   "metadata": {},
   "source": [
    "## Creating a new table"
   ]
  },
  {
   "cell_type": "code",
   "execution_count": 7,
   "id": "074db7d5-98f0-4b52-8f39-47d54f216249",
   "metadata": {},
   "outputs": [],
   "source": [
    "tableName = \"SchemaName.TableName\"\n",
    "tableDefinition = \"\"\"(ic_amb_zad INT, ic_amb_karta INT, ic_pac INT, \n",
    "                    dat_zad DATE, cas_zad TIME, prac_od INT, dg_kod MEDIUMTEXT, i_dg_kod MEDIUMTEXT, \n",
    "                    text_dg MEDIUMTEXT, i_text_dg MEDIUMTEXT, poz_text MEDIUMTEXT, amb_zaz_text LONGTEXT)\"\"\""
   ]
  },
  {
   "cell_type": "code",
   "execution_count": 8,
   "id": "073f698e-357e-4822-8b8d-8be0226b9524",
   "metadata": {},
   "outputs": [
    {
     "data": {
      "text/plain": [
       "0"
      ]
     },
     "execution_count": 8,
     "metadata": {},
     "output_type": "execute_result"
    }
   ],
   "source": [
    "try:\n",
    "    cursor.execute(f\"DROP TABLE {tableName}\")  \n",
    "except:\n",
    "    pass\n",
    "cursor.execute(f\"CREATE TABLE {tableName} {tableDefinition}\")"
   ]
  },
  {
   "cell_type": "markdown",
   "id": "f1d85bfd-abab-47ef-9094-f9da114876e8",
   "metadata": {},
   "source": [
    "This created table can be viewed by going to the IRIS management portal at: http://localhost:52773/csp/sys/UtilHome.csp \n",
    "\n",
    "Note: When you create a table and specify the desired data fields, a RowID field is automatically created\n",
    "https://docs.intersystems.com/irisforhealthlatest/csp/docbook/DocBook.UI.Page.cls?KEY=GSQL_tables#GSQL_tables_idfield "
   ]
  },
  {
   "cell_type": "markdown",
   "id": "7e4563f1-1a2e-451e-a6b0-cf1bac71c300",
   "metadata": {},
   "source": [
    "## Deleting rows"
   ]
  },
  {
   "cell_type": "code",
   "execution_count": 9,
   "id": "71143055-549a-4d43-9f0b-ae5f38364d24",
   "metadata": {},
   "outputs": [
    {
     "data": {
      "text/plain": [
       "0"
      ]
     },
     "execution_count": 9,
     "metadata": {},
     "output_type": "execute_result"
    }
   ],
   "source": [
    "sql = f\"DELETE FROM {tableName} WHERE ID = 1\"\n",
    "cursor.execute(sql) "
   ]
  },
  {
   "cell_type": "markdown",
   "id": "6e7a6a92-c362-469d-81d4-5aa172ef6dfc",
   "metadata": {},
   "source": [
    "## Adding data one row at a time by looping over the dataframe"
   ]
  },
  {
   "cell_type": "code",
   "execution_count": 10,
   "id": "9f2107d9-d63d-46aa-82e3-064d72497b94",
   "metadata": {},
   "outputs": [
    {
     "data": {
      "text/plain": [
       "0"
      ]
     },
     "execution_count": 10,
     "metadata": {},
     "output_type": "execute_result"
    }
   ],
   "source": [
    "try:\n",
    "    cursor.execute(f\"DROP TABLE {tableName}\")  \n",
    "except:\n",
    "    pass\n",
    "cursor.execute(f\"CREATE TABLE {tableName} {tableDefinition}\")"
   ]
  },
  {
   "cell_type": "code",
   "execution_count": 11,
   "id": "66a5ccc2-513d-40f0-a1d7-fe071fa8ca1c",
   "metadata": {},
   "outputs": [
    {
     "name": "stdout",
     "output_type": "stream",
     "text": [
      "time taken to add 5572 entries: 2.5327608585357666 seconds\n"
     ]
    }
   ],
   "source": [
    "##looping through dataframe and adding all the data to IRIS table\n",
    "sql = f\"\"\"Insert into {tableName} (ic_amb_zad, ic_amb_karta, ic_pac, \n",
    "                    dat_zad, cas_zad, prac_od, dg_kod, i_dg_kod, \n",
    "                    text_dg, i_text_dg, poz_text, amb_zaz_text) values (?,?,?,?,?,?,?,?,?,?,?,?)\"\"\"\n",
    "start_time = time.time()\n",
    "for index,row in df.iterrows():\n",
    "    data = (row['ic_amb_zad'], row['ic_amb_karta'], row['ic_pac'], row['dat_zad'], row['cas_zad'], row['prac_od'], row['dg_kod'], row['i_dg_kod'], row['text_dg'], row['i_text_dg'], row['poz_text'], row['amb_zaz_text'])\n",
    "    cursor.execute(sql, data)\n",
    "end_time = time.time()\n",
    "print(f\"time taken to add {len(df)} entries: {end_time-start_time} seconds\")"
   ]
  },
  {
   "cell_type": "markdown",
   "id": "5027c2e8-635a-4ed7-a25d-7b1bd0b4e54a",
   "metadata": {},
   "source": [
    "## Reading from the table"
   ]
  },
  {
   "cell_type": "code",
   "execution_count": 12,
   "id": "27fceb34-fe19-42dd-86e9-1ca5b895ebf3",
   "metadata": {
    "scrolled": true
   },
   "outputs": [
    {
     "name": "stdout",
     "output_type": "stream",
     "text": [
      "(25775488, 3702287, 257353, datetime.date(2023, 1, 9), datetime.time(14, 47), 41742, '', 'C911 ', '', 'Chronická lymfocytická leukemie z B-buněk                   ', '', 'Odběr:09.01.2023 10:53 ------------------------------------------------------------  Ret% 1.67 %   Reta 59.50 10^9/l   IRF 0.258    RET-He 35.3 pg   WBC 27.700 10^9/l   RBC 3.56 10^12/l   HGB 122.0 g/l   HCT 0.360 l/l MCV 101.7 fL   PLT 129.0 10^9/l   MCH 34.3 pg   MCHC 337.0 g/l   MPV 9.30 fl   RDW 14.2 %   NEU% 1.60 %   LYM% 94.40 %   MON% 3.40 % EOS% 0.30 %   BAS% 0.30 %   NEU 0.480 10^9/l   LYM 26.150 10^9/l MONO 0.930 10^9/l   EOS 0.070 10^9/l   BASO 0.070 10^9/l   NRBC 0.04 Odběr:09.01.2023 10:52 Urea S-Urea 5.5 mmol/l  (2.8-8.1) Kreat. S-Kreatinin 91 umol/l  (59-104) CKD-EPI CKD-EPI Krea 1.39 ml/s/1.73m2  (1-2.4) KM S-Kys.močová 417 umol/l  (202-417) Na S-Na 143 mmol/l  (136-145) K S-K 4.4 mmol/l  (3.5-5.1) Cl S-Cl 107 mmol/l  (98-107) Bi-celk. S-Bilirubin celk 13.1 umol/l  (2-21) ALT S-ALT 0.17 ukat/l  (0.17-0.83) AST S-AST 0.20 ukat/l  (0.17-0.85) GGT S-GMT 0.41 ukat/l  (0.17-1.19) ALP S-ALP 1.03 ukat/l  (0.67-2.15) LD S-LD 3.09 ukat/l  (2.25-3.75) Glukóza S-Glukosa 5.8 mmol/l  (3.9-5.6) CRP S-CRP 11.7 mg/l  (0-5) S: nově alopecie, ale znovu začaly vlasy dorůstat bez B symptomů O: ECOG 0, 90kg paricální alopecied bez hmatné lymfadenopatie ve všech lokalzkaícch břicho měkké, hepar nezv, slezina nezvětšena, dkk bez otoků Dg B-Chronická lyfatická leukémie     - opakovaně progredující on., delece 11q, high-risk, - st.p.provedení alogenní PBSCT, dárce HLA identická sestra, den 0 byl   16.10.2018, režim FLAMSA bez amsa/RIC Cy+TBI. - 15.11.2018  přetrvává smíšený chimerismus a flow MRD pozitivita ze   dřeně z 12/2018, proto snižována IS terapie, k 1/2019 pokles SC   (29%..11%...6%) - od 5.4.2019 ukončen CsA, - 15.5.20 PET/CT generalizovaná lymfadenopatie, bez zn Richterova   syndromu - terapie Imbruvica od 25.5.20 - 8.6.2020 efekt zlepšení trombocytopenie, obvkylý nárůst lymfocytozy   při dobrém efektu terapie, zmenší otoku LDK - 9.9.20 efekt parciální remsise (upravěno tromboytopenie, trvá   lymfocytoza, otoky dkk nejsou - kontrolní CT 5/2021 - regrese velikosti i počtu uzlin, menší slezina - přerušena imbruvica pro těžký průběh COVID 19, restart - 6.4.22 trvá paricální remise,  kontrolní CT restaging 29.6.22 - 5.5.22 parickál njíremsie, přerušit imbruvica před cholecystekotmií - CT 29/6/202: mírná progrese velikosti LU povšechně, největší 34x20   infrarenálně vlevo - pro asymptomatickou nemoc a fidg dg i reaktivní   lymfadenopatie při střevním infektu zatím pokračuje terapie ibrutinibem  předána žádost na kontlní CT žádám nyní St.p. těžkém průběhu COVID 19 12/21 Venookluzivní choroba jaterní dg. 16.10.2018, th defibrotide Septický šok s průkazem E.coli v HMK v období neutropenie po aloTx Syndrom anginy pectoris s malou myokardiální lézí 15.8.2018  - t.č. bez obtíží, není nikde sledován Hypogammaglobulinémie, substituce Kiovig naposledy 7.11.2018 Phlebotromboza LDK z útlaku masivní lymfadenopatií 9/2017 Herpes simplex horního rtu  v minulosti Herpes zoster 6/2015 ~do~Medikace:~df~ Imbruvica 140mg 3-0-0, zapít min. 200ml vody - Při užívání Imbruvicy je nutné vynechat konzumaci grapefruitů a třezalky. - Imbruvica může vést k poruše funkce krevních destiček, proto je   nutné tento lék před jakýmkoliv krvácivým výkonem vysadit 5-7 před   výkonem a nasadit zpět do medikace 5-7 dní po výkonu - Není vhodné současné podávání antikoagulační terapie warfarinem.   Pokud je nutno nasadit LMWH/heparin nebo DOAC, terapie Imbruvicou se musí   přechodně přerušit a její opětovné nasazení je nutné zkonzultovat s   naším centrem. - Imbruvica je metabolizována CYP3A4, před nasazením léků ovlivňujících   funkci tohoto enzymu je nutná konzultace s námi a event. úprava dávky   Imbruvicy - makrolidy, ciprofloxacin, azolová antimykotika, některá   antivirotika, diltiazem, verapamil, amiodaron, některá antiepileptika. - mezi nejčastější nežádoucí účinky imbruvicy patří krvácivé   komplikace, fibrilace síní a průjem  - tyto potíže vhodné s námi   konzultovat Alopurinol 300 mg tbl. 0-1/2-0 Píšu žádost na  CT, přčedppokládáme temrín cv březnu 2023 Pokud bude extrakce zubu, pak 5 dní předem vysadit imbruvicu a nasadit 3 dny po vytržení. Nutno provést odběry krecve urea,kreatinin ,před CT- pán se dojmluví s PL dnes 3 balení imbruvica 140mg 90 tbl Odběry: Ko+dif+ret, ZBV, KM, glyk, CRP, beta 2 mikroglublin Další kontrola v 4 dne: 27.03.2023 12:30 Pacient byl poučen o možném doplatku na předepsaný lék. RP:  1x ERDOMED 300MG CPS DUR 10   1x denně ')\n",
      "(26043815, 4712677, 1773067, datetime.date(2023, 1, 9), datetime.time(13, 11), 41742, '', 'C911 ', 'calquence                                                   ', 'Chronická lymfocytická leukemie z B-buněk                   ', '', 'Počátek vyšetření: 09.01.2023 12:53 Odběr:09.01.2023 10:18 Urea S-Urea 46.9 mmol/l (2.8-8.1) Kreat. S-Kreatinin 244 umol/l (45-84) CKD-EPI CKD-EPI Krea 0.25 ml/s/1.73m2 (1-2.4) KM S-Kys.močová 498 umol/l (143-339) Na S-Na 130 mmol/l (136-145) K S-K 6.0 mmol/l (3.5-5.1) Cl S-Cl 91 mmol/l (98-107) Bi-celk. S-Bilirubin celk 13.7 umol/l (2-21) ALT S-ALT 0.23 ukat/l (0.25-0.58) AST S-AST 0.36 ukat/l (0.17-0.6) GGT S-GMT 0.71 ukat/l (0.1-0.7) ALP S-ALP 2.38 ukat/l (0.58-1.74) Glukóza S-Glukosa 29.0 mmol/l (3.9-5.6) CRP S-CRP 5.1 mg/l (0-5) KOMENTAR KOMENTAR (-) Materiál S/P: :plazma Hlášeno tel. v :12.29 hod. kaliuum jistě s ovlivněním hyperleukocyzozou Odběr:09.01.2023 10:18 Ret% 4.91 % Reta 216.00 10^9/l IRF 0.334 WBC 321.000 10^9/l RBC 4.40 10^12/l HGB 129.0 g/l HCT 0.430 l/l MCV 97.1 fL PLT 157.0 10^9/l MCH 29.3 pg MCHC 302.0 g/l MPV 12.10 fl RDW 20.7 % NEU% 4.24 % LYM% 94.30 % MON% 0.91 % EOS% 0.00 % BAS% 0.55 % NEU 13.670 10^9/l LYM 303.000 10^9/l MONO 2.910 10^9/l EOS 0.000 10^9/l BASO 1.760 10^9/l NRBC 0.00 10^9/l NRBC/WBC 0.00 /100WBC HlášAnal : KOMENTAR Změna oproti předešlému Z provedených vyšetření: * 5/2022 SP:  RES: V buněčně bohatších až bohatých aspirátech infiltrace   KD patologickými lymfocyty (68,6%) v.s. při základním   lymfoproliferativním onemocnění (dle dok. CLL). - flow KD CLL 67% * CT restaging 16/6/2021   RES: V porovnání s minulým vyš. lymfadenopatie ve stac. počtu, některé   retroperitoneální LU lehce větší (největší LU v oblasti bifurkace aorty   32x8mm). Bez hepatosplenomegalie. Vlevo v S1/2 lehká progrese velikosti   plicní nodularity (6x3mm), ostatní nodularity bez podstatných změn.   slezina 110x55x127mm * EKG 14/11/2022: fibrilace síní s POK 52/min, QRS štíhlý, převoní   intervaly v normě, LAH * EKG 23/11/2022: interna Dr. Bartejsová, Česká, Brno - fisi 71/min Subj: ležící na lůžku, 1x zvracela, na dotaz co se děje odpovídá že nic, je unavenější, nemá chuť k jídlu, nic jí nebolí, teplotu nemá, dle příbuzné - cca týden je stav horší nevolnost navalování tři dn nyní už jen pila a trochu dibenu nejedla, teplotu nepozorovali Obj.: ECOG 3  váha 75kg výška 154cm ležící v lůžku, odpovídá spíše jednoslovně orientovaná, AS reg.  břicho klidné, měkké, bez rezistence, nebolestivé játra ani slezinu nehmatám, periferní uzliny: do 1 cm DKK otoky jen perimaleolárně DG.: Akutní renální selhání v terénu CHRI - k došetření, urémie, zvracení Hyperglykémie C911 CLL/malobuněčný lymfom typu CLL, diag. 7.04.2016 z nadklíčkové LU - klin.st. IV A non-bulky, patol. lymfadenopatie obou nadklíčků do   19 mm, L.axily a v RP max. 28mm, leukocytóza, lymfocytóza klonální - 12/2016 PET/CT na MOÚ, kde velikostní i početná progrese lymfadenopatie,   největší LU v tříslech 12x22mm, tedy nadále non-bulky - 6/2/2017 prognostické faktory: komplexní karyotyp, del 17p, 13q, PAT   pozit, TP 53 mutace potvrzena!  suchá aspirace ze SP v úvodu - 1. linie terapie: 5xRCP od 6/3-6/6/2017, klinický efekt SD - s ohledem na absenci zásadní symptomatologie a přítomnost dle 17p   a komplexního karyotypu při progresi nemoci v 2. linii campath, pro   zhoršení lymfedemu PHK kontrolní CT restaging - efekt progrese! - dle CT 12/10/2017 generalizovaná lymfadenopatie s maximem v dutině   břišní, kde max průměr až 150mm - pulz kortikoidů od 6/12/2017 - 2. linie terapie: alemtuzumab od 11/12/2017 do 3/4/2018, klin. efekt PD - další progrese nemoci, indikuji podání pulzního dexamethasonu -  14/9/2018 - CLL s mutací TP53, více jak 1 linie terapie, ECOG 1 - indikuji podání ibrutinibu, do 10/2019 byla výborná tolerance - ibrutinib přerušen pro herpes zoster - dle CT restagingu 14/11/2019 výrazná regrese lymfadenopatie, tedy   léčebná odpověď PR - od 17/2/2020 start ibrutinibu 140mg/den - k 25/5/2021 klinicky trvá parciální remise - ibrutinib t.č. přerušen pro   kardiální dekempenzaci, fibrilaci síní a progresi anemie při antikoag.   terapii a kožních krvácivých projevech - k 7/12/2021 trvá léčebná odpověď PR i dle CT restagingu - k 3/5/2022 pancytopenie doplněna SP kde infiltrace cLL bez dysplázií - RAi IV A progrese CLL, volíme terapii Zydelig 150mg/den, start 17.5.2022 - 31.5.2022 přerušení pro GIT intoleranci - nevolnost, zvracení - od 8/2022 symptomatická léčba - substituční terapie + malá dávka kortikoidů - k 31/10/2022 již není efekt kortikoterapie, progreduje trombocytopenie -   po domluvě s pacietkou se pokusíme nemoc ovlivnit BTKi 2. generace   acalabutinibem -  pro trombocytopenii start v redukované dávce a   kontrola za 2 týdny - k 5/12/2022 jednoznačný efekt terapie - pro infekci přerušeno od 12.12.2022 - k 28.12.2022 restart terapie - 9/1/2023 zjevný efekt terapie, nyní nutné přerušení pro CHRI Infekce SARS-CoV-2, PCR pozit 12.12.2022 - s přidruženou bakteriální superinfekcí - ter. za hospitalizace ve FNUSA Infekce SARS-COV-2 diag 19/7/2022 - zaléčena monupiravirem + ATB, růstové faktory GCSF Dušnost a slabost při kardiálním selhávání a anemickém syndromu 5/2022 Akutní progrese CHRI, hyeprkalémie a hyponatrémie 5/2022 Herpes zoster v dermatomu n. V vlevo 9/2019 - 1. linie terapie aciklovir, po snížení dávek zhoršení loklálního nálezu - 2. linie od 8/10/2019 valaciklovir s efektem, ponechávám zatím v   profylaxi - při profylaktické dávce od 29/10/2019 nový výsev na bradě, tedy opět   terapetická dávka - 17/2/2020 zhojeno ad integrum, sek. profylaxe valacyklovir Perzistující fibrilace síní - dle echo výrazná dilatace PK a lehká plicní hypertenze Chronické selhávání ledvin CKD st 3bna hranici IV Karcinom mammy vpravo pT2pNIb2M0, invazivní smíšený lobulární a duktální   karcinom, diag 3/1197 - st.p. chemo a radioterapii + následné hormonoterapii, ukončeno vše 1997,   od té doby remise - dokumentace o typu chemoterapie chybí Impigement syndrom pravého ramene, forzen shoulder vpravo Diabetes mellitus II typu na dietě a PAD Hypercholesterolemie Latentní hypothyreoza dle odběrů 2/2017 St.p. hysterektomii se separovanou abrazí 11/2017, histologicky benigní nález - endometriální polyp St.p.  vakcinaci proti COVID-19, 2. dávka 7/2021 Pfizer Medikace: Berodual při potížích Metformin mylan 500mg tbl. 1-0-0 Toviaz 8mg tbl. 1-0-0 Euthyrox 50ug tbl. 1/2-0-0 nalačno Milurit 300mg tbl. 1-0-0 Valtrex 500mg tbl. 1-0-1 - trvá profylaxe pro obličejovou formu herpes  simplex generaliz. u těžce imunokompromitované pacientky včetně lokalit u  očí, s opakovaným výsevem i na profylaxi - dávku upravit vzhledem k renálním parametrům... Furon 40mg tbl. 1-1/2-0 Verospiron 25mg 1-0-0 Prednison 20mg 1-0-0 Diben sipping 1x denně Calquence 100mg 1-0-0 ob den - nyní přerušit na stacionáři dnes FR1/1 500ml iv a HMR 6j sc Další postup: Pacientka dnes nově s akutním renálním selháním, uremická, zvracení, hyperglykémie. Stran chrnoické leukémie efekt calquence zjevný ale pro komplikace nyní nutné přerušení, obnova v redukované dávce při stabilizaci stavu. Prognoza pacientky stran chronické leukémie by mohla být více jak rok, nicméně nutné vzít v úvahu věk a ostatní komorbidity. Indikována hospitalizace na spádovém interním pracovišti domluveno s Dr Chvátaovou IKAK I interna FN USA. Pacientka kardiopulmonálně kompenzovaná schopna převozu sanitou. - na nízkprahový urgentní příjem IKAK, k hospitalizaci. Děkuji velice 130/70 100/min naše konzultace lze na 53223 3562. ')\n",
      "(26015332, 2480460, 3436, datetime.date(2023, 1, 9), datetime.time(15, 6), 41742, '', 'C911 ', 'venetoklax příjem IHOK                                      ', 'Chronická lymfocytická leukemie z B-buněk                   ', '', 'studie LOXO 20022, pacient číslo 2201-440 platí informované souhlasy studie LOXO 20022 ------------------------------------------------------ pacient naplnuje všechna inclusion kritéria, má  exclusion kritérium infekce dne 9.1.2023 psoeldní den, kdy je možná randomizace je 10.1.23, ale to ifnekce nebude doléčená informována monitorka studie medical history mikroskopická hematurie nejasné etiologie- infekce neprokázána, PSA v normě, CT IV urografie v normě,, uretrocystoskopie 5.1.2023 v normě, jen patrný útalk močového měcháře uzlinami zvenčí nově nasazena medikace lannatam 0,4mg p.o. denně od 5.1.23 hepatitidy negativní CMV negativní CT 16.12.22 Masivní lymfadenopatie ve všech krčních prostorech oboustranně - největší vpravo 68x38mm, uzliny jsou nakupeny paketovitě, stále ještě izolované, homogenní. Dále se uzlinové pakety propagují podél cévních svazků do nad/podklíčku i axill oboustranně - zde největší vpravo 52x32mm, vlevo 43x36mm. Štítná žláza homogenní - pouze vpravo v P laloku drobná hypodenzita 4mm. V mediastinu i v obou hilech také lymfadenopatie - v oblasti P hilu a subkarinně až splývající do homogenního infiltrátu vel.55x32 v P hilu a 52x29 subkarinně. Dále uzliny patrné paraaortálně a retrokrurálně. 3 nápadnější LU i při kardii. Plicní křídla jsou vzdušná, bez fluidothoraxu. Vpravo v S4 ložisko vel.8mm - větší než minule. Vlevo vazivový pruh v S5/8, v S9 a 10 jemná vazivová zesílení, místy zesílení inter/intralobulárního vaziva a bronchioloektázie. Játra KK v MDC 170mm,nativně jen lehce snížené denzity, postkontrastně jsou patrné tři hypodenzity stejné jako minule charakteru cyst. Žl.cesty štíhlé, žlučník se nezobrazuje. Porta, VMS i robustní VL se homogenně sytí. Slezina vel.207x93mm(VDxML) postkontrastně bez ložisek. Ledviny nativně bez denzit lithiázy, postkontrastně drobné cystičky, DS v normě. Pravá nadledvina štíhlá, vlevo v centrální porci drobný nodulus do 10mm. Slinivka bez zjevné expanze, v jejím okolí výrazně zvýšená denzita tuku, zmnoženy LU - vzájemně od sebe špatně odlišitelné. Za portou LU je LU vel.43x17mm, paraaortálně jsou nakupeny uzliny vel.do 25mm a neostré konturace. Paket uzlin a výrazný prosak tuku je i kolem radixu mesenteria. Pakety uzlin se táhnou i podél il.cévních svazků - vpravo max.97x57mm, vlevo 105x53mm, tyto uzliny v MP utlačují močový měchýř, který málo naplněn. prostata s centrálními hrubými kalcifikacemi. Prosáklá je i stěna rekta i tuk v jeho okolí, výrazný prosak tuku jak mesenteriálně, tak v RP. CD volné. Patologicky zvětšené LU prokazuji i v tříslech, vpravo max.41mm, vlevo 46mm. Skelet - hyperkyfóza hrudní i prohloubená bederní lordóza, skelet je lehce mléčné struktury. Degenerativní změny skeletu jsou patrné zejména v kaudální krční porci, na vrcholu Th kyfózy. Redukce MOP L3/4 s degen.změnami OT L3 dorsálně s jemným posunem dorsálně. RES. Výrazná progrese nálezu - dnes masivní lymfadenopatie ve všech vyšetřovaných oblastech, hepatomegalie, splenomegalie, prosak mesenteriálního a RP tuku. -------------------------------------------- cytogenetika FISH je delece genu TP53 4.3.2020 IGVH homologie 100% flow 3.11.22CD 19+skappa 81,9% CD 19+slambda 1,1% -------------------------------------------- histologie uzlina vpravo na krku odbr 28.11.22 Mikropopis: Lymfatická uzlina s architektonikou zcela setřenou plochami převážně malých kulatých lymfocytů, dále minoritně v proliferačních centrech (pseudofoliklech) jsou přítomny větší prolymfocyty i velké paraimunoblasty. Proliferační centra jsou místy neobvykle velká: přesahují 20x a úsekovitě jsou konfluentní, proliferační aktivita v nich dle Ki-67 je zvýšená (přesahuje 40%), počet mitóz v centru přesahuje 2,4. Neoplastické buňky jsou CD 20+, CD 19+, CD 79a+, PDL. PD-L1 (imunohistochemie): Protilátka: PDL1 Klon 22C3 (Agilent) Nález: nádorové buňky jsou v počtu více jak 100 vitálních elementů a jsou v cca 1-5% pozitní na expresi PDL-1. Externí kontrola je pozitivní (tonzila). Res.: PD-L1: pozitivní ? exprese PD-L1 zastižena ve více jak 1% nádorových buněk. Závěr: Obraz zralé B neoplázie typu CLL/SLL s rysy progrese (WHO 2017). Bez známek Richterova syndromu/blastického zvratu. PET/CT 8.12.22 nízké SUV ve všech lokalziaícch, paket uzlin v retroperitoneu 184x83mmm, pakety v pánvi 131x65mm * clearence kreatininu: muž, 71 let, hmotnost 92kg , kreatinin 125= 61ml/min riziko TLS je vysoké  paket uzlin v retroperitoneu 105x53mm a 97x57mm portální uzliny 43x17mm v pravém hilu plic 55x32mm, v praévm hilu subkarinně 52x29mm slezina 207x93mm játra 170mm + lymfocytoza nad 25 tisíc/L ----------------------- --------- subj má  infekci horních cest dýchacích, teploty neměl smrká, sekrece je žlutá a trošku kašle, chrapot a dostal od svého praktického lékaře antibiotika medoxin 500mg 2x denně od 30.12.22 protože chrapot trvá, tak bere dále znovu chrapot a sekrece z nosu a kašel, afebrilní v krku nemá bolesti, polykací potíže nemá břicho nebolí, stolice je pravidelné nekrvácí zvětšující se uzliny na krku a v třísle oboustranně objektivně : bez dušnosti ,bez itkeru ,bez cyanozy TK 130/80 P 80 reg D 10/min jazyk vlhký, bez povlaku, tonsily bilat hypertrofické velikost 2x2cm lymfadneopatie na krku bilat několi kskupin uzlin 3x3cm 4x4cm axily bilat 4x4cm třísla vpravo 5x5cm,, vlevo 6x6cm břicho měkké, bez hmatné rezistnece játra nezvětšene,a slezina nezvětena dkk bez otoků AE infekce horních cest dcýacícch grade 2, start 30.12.2022,  trvá,dnes 9.1.23 etiologie chřipka typu A dle  wstěru není souvislost se studiovými proceedurami ani s sutidovou terapií SA žádné RES:Chřipka typu A, test dne 9.1.23 Infekce horníchcest dýchaících  od 30.12.22, grade 2, nen ísouvislost se studiovu medikací ani s studiovými procedurami, ATB do 8.1.23 - kontrola 9.1.23 a nově nssazuji tamiflu - dnes stěr SARS COV 2 negativní pzotiivní chřipkpa typu A RTG S+P bez infitlrace, dle RTG PND maxilární sinusitis bilaterálnbě - indikuji tamiflu 75mg 2x denně pod dobu 5 dní indikuji  ORL vyšetření, pokračovat medoxin 500mg CLL, mutant p53 od 8.12.2014 dg z flow 20.1.2009 jako klin 0A dle Raie,BInet A někdy pocení - trisomie 12, funkční p53, nemutovaný gen pro IgVH, Rai IA - lymfadenopatie generalizovaná, uzliny asymtomatické - 1. linie léčby 3x FCR od 8.12.2014 do 18.2.2015, efekt klinicky CR - 2.8.2017 progrese trombocytopenie a lymfocytozy, progrese po 30 měsících - prognostické faktory 20.9.17 trisomie 12, t /1,16), CD 38 negativní,   IgVH nemutovaný, p 53 funkční - 8.12.2014 mutace TP 53 50% alel - 2. linie léčby 13.3.2018 4x FCR do 13.6.2018, efekt SD - trvá   trombocytopenie, regrese lymfocytozy a lymfadenopatie - 30/7/2018 normalizace KO, Trc 111, v další progresi nemoci je vhodná   terapie kinázovým inhibitorem - 12.11.2018 progrese lymfocytozy, trvá trombocytopenie lehká - CT 26/11/2018 masivní retroperitoneální LU 10x5cm, bilat. axilární - 3. linie - start ibrutinib 6.12.2018 - pro lehkou trombocytopeniii provedena SP, kde nadále významá infiltrace - dle CT restagingu výrazná regrese povšechné lymfadenopatie, PR - dále subfebrilie, lymfadenopatie krku v dif dg progrese onemocnění, - 14.2.2020 flow PK - 57% CLL, v dif. dg infekce či progrese nemoci - PET/ CT 31.3.2020 bez progrese, bez jednoznačných projevů Richterova   syndromu, dle prognostických faktorů mutace TP 53, cytogeneticky   nehodnotitelné, trisomie 12 v 15%, ostatní FISH negativní - 16.3.2020 pokračování terapie imbruvica, efekt PR - 3.11.2022 progrese, suspektní transformace do Richterova syndromu - dle sonografie břicha 3.11.22 progrese lymfadenopatie - 7.11.22 odběry prognostických faktorů - flow PK bez známek transformace   cytogenetika bude do 12.12.22 - odběr LU na ORL 28.11.22 k vyloučení Richterovy transformace - vyloučena Richterova transformace dle histolgopie 28.11.22   a dle PET/CT 8.12.22 indikujeme terapii ve studii LOXO 20022 screening dne 13.12.22, plán zahájení léčby 3.1.,2023 odložen, dne 2.1.22 CT iv. urografie a následně flexibilní uretrocystoskopie v lokální anestezii, původní plán 19.1.23, zkusím,e domluvt v prvním týdnu v lednu - plán randomizace 9.1.23 zruen pro infekci plánován rescreeening po odeznění infekce a zahájení léčby po rescreeningu za hospitalizace pro vysoké riziko TLS Mikroskopická hematurie od 12.12.2022 grade 1 ( medical history) kultivace moči negativní 14.12.22  urologické vyšetření - Modřice, dr Petr Řehořek sono ledvin ledviny v normě, duté systémy bilat bez městání, vlevo ds prosvítá, bez patrné lithiázy nad 5mm, močový měchýř je hladkých kontru, okolí bez patologie, prostata prominuje do měcháýře 15mm, nehomogenního vzhledu odběr moč kultivace negativní odběr PSA 1,18 v normě CT iv urografie dne 2.1.23 v normě - klinicky bez obtíží,  5.1.23  uretrocystoskpiopie v normě, jen patrný útalůk močového měchýře uzlinami zvenčí hodnotím jako grade 1 Hiátová hernie, gastritis dg 5.4.2019, nyní bez obtíží, grade 1 trvá Těžká esofagitis st IV dne 5.4.2019 - histologie: struktury ulcerace a ojed. lamelky žaludeční sliznice s    intestinální metaplázií. HP -, Bez dysplázie/ neoplázie. - po medikaci  controloc a kinito upraveno - kontrol.vyšetření HFS 3.7.2019: nález trvá, do medikace emanera a   ursosan - kontrolní GFS 25.11.2019 esofagitis zhojena, sledování netřeba - 13.12.22 bez obtíží,jen medical history, grade 0 ukončeno Vertigo od 12/2018 dále nepokračuje, grade 0, ukončeno Hyperkyfóza hrudní i prohloubená bederní lordóza, skelet je lehce mléčné struktury. Degenerativní změny skeletu jsou patrné zejména v kaudální krční porci, na vrcholu Th kyfózy. Redukce MOP L3/4 s degen.změnami OT L3 dorsálně s jemným posunem dorsálně. start 15.5.2014 dle CT - grade 1, klinicky bez obtíží Hypertenze grade 2, dg UK prosinec 2016 Hypertrofie prostaty, dg UK červen 2015, grade 1 Syndrom karpál tunelu, grade 1, operace 1996, trvá, minimální obtíže Medikace: Prestarium neo 5mg 1x1 od prosince 2016 na hypertenzi Agen 5mg tbl. 1-0-0 od června 2018 na hypertenzi Milurit 300mg tbl. 1-0-0 nově od 3.11.2022 profylaxe hyperurikémie Medoxin 500mg 2x1 porkačovat ( bere od 30.12.22) nosní kapky  5x denně do obou nosních dírek ACC long 1 tbl denně nově Tamiflu 75 mg 1-0-1 po dobu 5 dní ----------------------------------------------- randomizace pro infekci nemůže být, screening failure - infekce po odeznění ifnekce je plán rescreeningu ------------------------------------------------------ + odběry a  pán odchází domů, domluva tepleofnická dle výsledků KO diff, rtc ZBV,KM,LD, CRP, Ca, P, Mg --------------------------------------------- Pacient byl poučen o možném doplatku na předepsaný lék. RP:  1x TAMIFLU 75MG CPS DUR 10   1-0-1      1x MEDOXIN 500MG TBL FLM 10 II   1-0-1 odeslány recepty eletronicky teleofnick ádomoluva zítra se pán staví pro žádnaku na ORL Další kontrola: 12.01.2023 10:00 ')\n"
     ]
    }
   ],
   "source": [
    "## Read only select columns\n",
    "cursor.execute(f\"select * from {tableName}\")\n",
    "fetched_data = cursor.fetchmany(3)\n",
    "for row in fetched_data:\n",
    "    print(row)"
   ]
  },
  {
   "cell_type": "code",
   "execution_count": 13,
   "id": "30cd554e-fae1-4e76-9e02-e5b954d5e8bc",
   "metadata": {
    "scrolled": true
   },
   "outputs": [
    {
     "name": "stdout",
     "output_type": "stream",
     "text": [
      "(25775488, 3702287, 257353, datetime.date(2023, 1, 9), datetime.time(14, 47), 41742, '', 'C911 ', '', 'Chronická lymfocytická leukemie z B-buněk                   ', '', 'Odběr:09.01.2023 10:53 ------------------------------------------------------------  Ret% 1.67 %   Reta 59.50 10^9/l   IRF 0.258    RET-He 35.3 pg   WBC 27.700 10^9/l   RBC 3.56 10^12/l   HGB 122.0 g/l   HCT 0.360 l/l MCV 101.7 fL   PLT 129.0 10^9/l   MCH 34.3 pg   MCHC 337.0 g/l   MPV 9.30 fl   RDW 14.2 %   NEU% 1.60 %   LYM% 94.40 %   MON% 3.40 % EOS% 0.30 %   BAS% 0.30 %   NEU 0.480 10^9/l   LYM 26.150 10^9/l MONO 0.930 10^9/l   EOS 0.070 10^9/l   BASO 0.070 10^9/l   NRBC 0.04 Odběr:09.01.2023 10:52 Urea S-Urea 5.5 mmol/l  (2.8-8.1) Kreat. S-Kreatinin 91 umol/l  (59-104) CKD-EPI CKD-EPI Krea 1.39 ml/s/1.73m2  (1-2.4) KM S-Kys.močová 417 umol/l  (202-417) Na S-Na 143 mmol/l  (136-145) K S-K 4.4 mmol/l  (3.5-5.1) Cl S-Cl 107 mmol/l  (98-107) Bi-celk. S-Bilirubin celk 13.1 umol/l  (2-21) ALT S-ALT 0.17 ukat/l  (0.17-0.83) AST S-AST 0.20 ukat/l  (0.17-0.85) GGT S-GMT 0.41 ukat/l  (0.17-1.19) ALP S-ALP 1.03 ukat/l  (0.67-2.15) LD S-LD 3.09 ukat/l  (2.25-3.75) Glukóza S-Glukosa 5.8 mmol/l  (3.9-5.6) CRP S-CRP 11.7 mg/l  (0-5) S: nově alopecie, ale znovu začaly vlasy dorůstat bez B symptomů O: ECOG 0, 90kg paricální alopecied bez hmatné lymfadenopatie ve všech lokalzkaícch břicho měkké, hepar nezv, slezina nezvětšena, dkk bez otoků Dg B-Chronická lyfatická leukémie     - opakovaně progredující on., delece 11q, high-risk, - st.p.provedení alogenní PBSCT, dárce HLA identická sestra, den 0 byl   16.10.2018, režim FLAMSA bez amsa/RIC Cy+TBI. - 15.11.2018  přetrvává smíšený chimerismus a flow MRD pozitivita ze   dřeně z 12/2018, proto snižována IS terapie, k 1/2019 pokles SC   (29%..11%...6%) - od 5.4.2019 ukončen CsA, - 15.5.20 PET/CT generalizovaná lymfadenopatie, bez zn Richterova   syndromu - terapie Imbruvica od 25.5.20 - 8.6.2020 efekt zlepšení trombocytopenie, obvkylý nárůst lymfocytozy   při dobrém efektu terapie, zmenší otoku LDK - 9.9.20 efekt parciální remsise (upravěno tromboytopenie, trvá   lymfocytoza, otoky dkk nejsou - kontrolní CT 5/2021 - regrese velikosti i počtu uzlin, menší slezina - přerušena imbruvica pro těžký průběh COVID 19, restart - 6.4.22 trvá paricální remise,  kontrolní CT restaging 29.6.22 - 5.5.22 parickál njíremsie, přerušit imbruvica před cholecystekotmií - CT 29/6/202: mírná progrese velikosti LU povšechně, největší 34x20   infrarenálně vlevo - pro asymptomatickou nemoc a fidg dg i reaktivní   lymfadenopatie při střevním infektu zatím pokračuje terapie ibrutinibem  předána žádost na kontlní CT žádám nyní St.p. těžkém průběhu COVID 19 12/21 Venookluzivní choroba jaterní dg. 16.10.2018, th defibrotide Septický šok s průkazem E.coli v HMK v období neutropenie po aloTx Syndrom anginy pectoris s malou myokardiální lézí 15.8.2018  - t.č. bez obtíží, není nikde sledován Hypogammaglobulinémie, substituce Kiovig naposledy 7.11.2018 Phlebotromboza LDK z útlaku masivní lymfadenopatií 9/2017 Herpes simplex horního rtu  v minulosti Herpes zoster 6/2015 ~do~Medikace:~df~ Imbruvica 140mg 3-0-0, zapít min. 200ml vody - Při užívání Imbruvicy je nutné vynechat konzumaci grapefruitů a třezalky. - Imbruvica může vést k poruše funkce krevních destiček, proto je   nutné tento lék před jakýmkoliv krvácivým výkonem vysadit 5-7 před   výkonem a nasadit zpět do medikace 5-7 dní po výkonu - Není vhodné současné podávání antikoagulační terapie warfarinem.   Pokud je nutno nasadit LMWH/heparin nebo DOAC, terapie Imbruvicou se musí   přechodně přerušit a její opětovné nasazení je nutné zkonzultovat s   naším centrem. - Imbruvica je metabolizována CYP3A4, před nasazením léků ovlivňujících   funkci tohoto enzymu je nutná konzultace s námi a event. úprava dávky   Imbruvicy - makrolidy, ciprofloxacin, azolová antimykotika, některá   antivirotika, diltiazem, verapamil, amiodaron, některá antiepileptika. - mezi nejčastější nežádoucí účinky imbruvicy patří krvácivé   komplikace, fibrilace síní a průjem  - tyto potíže vhodné s námi   konzultovat Alopurinol 300 mg tbl. 0-1/2-0 Píšu žádost na  CT, přčedppokládáme temrín cv březnu 2023 Pokud bude extrakce zubu, pak 5 dní předem vysadit imbruvicu a nasadit 3 dny po vytržení. Nutno provést odběry krecve urea,kreatinin ,před CT- pán se dojmluví s PL dnes 3 balení imbruvica 140mg 90 tbl Odběry: Ko+dif+ret, ZBV, KM, glyk, CRP, beta 2 mikroglublin Další kontrola v 4 dne: 27.03.2023 12:30 Pacient byl poučen o možném doplatku na předepsaný lék. RP:  1x ERDOMED 300MG CPS DUR 10   1x denně ')\n",
      "(26043815, 4712677, 1773067, datetime.date(2023, 1, 9), datetime.time(13, 11), 41742, '', 'C911 ', 'calquence                                                   ', 'Chronická lymfocytická leukemie z B-buněk                   ', '', 'Počátek vyšetření: 09.01.2023 12:53 Odběr:09.01.2023 10:18 Urea S-Urea 46.9 mmol/l (2.8-8.1) Kreat. S-Kreatinin 244 umol/l (45-84) CKD-EPI CKD-EPI Krea 0.25 ml/s/1.73m2 (1-2.4) KM S-Kys.močová 498 umol/l (143-339) Na S-Na 130 mmol/l (136-145) K S-K 6.0 mmol/l (3.5-5.1) Cl S-Cl 91 mmol/l (98-107) Bi-celk. S-Bilirubin celk 13.7 umol/l (2-21) ALT S-ALT 0.23 ukat/l (0.25-0.58) AST S-AST 0.36 ukat/l (0.17-0.6) GGT S-GMT 0.71 ukat/l (0.1-0.7) ALP S-ALP 2.38 ukat/l (0.58-1.74) Glukóza S-Glukosa 29.0 mmol/l (3.9-5.6) CRP S-CRP 5.1 mg/l (0-5) KOMENTAR KOMENTAR (-) Materiál S/P: :plazma Hlášeno tel. v :12.29 hod. kaliuum jistě s ovlivněním hyperleukocyzozou Odběr:09.01.2023 10:18 Ret% 4.91 % Reta 216.00 10^9/l IRF 0.334 WBC 321.000 10^9/l RBC 4.40 10^12/l HGB 129.0 g/l HCT 0.430 l/l MCV 97.1 fL PLT 157.0 10^9/l MCH 29.3 pg MCHC 302.0 g/l MPV 12.10 fl RDW 20.7 % NEU% 4.24 % LYM% 94.30 % MON% 0.91 % EOS% 0.00 % BAS% 0.55 % NEU 13.670 10^9/l LYM 303.000 10^9/l MONO 2.910 10^9/l EOS 0.000 10^9/l BASO 1.760 10^9/l NRBC 0.00 10^9/l NRBC/WBC 0.00 /100WBC HlášAnal : KOMENTAR Změna oproti předešlému Z provedených vyšetření: * 5/2022 SP:  RES: V buněčně bohatších až bohatých aspirátech infiltrace   KD patologickými lymfocyty (68,6%) v.s. při základním   lymfoproliferativním onemocnění (dle dok. CLL). - flow KD CLL 67% * CT restaging 16/6/2021   RES: V porovnání s minulým vyš. lymfadenopatie ve stac. počtu, některé   retroperitoneální LU lehce větší (největší LU v oblasti bifurkace aorty   32x8mm). Bez hepatosplenomegalie. Vlevo v S1/2 lehká progrese velikosti   plicní nodularity (6x3mm), ostatní nodularity bez podstatných změn.   slezina 110x55x127mm * EKG 14/11/2022: fibrilace síní s POK 52/min, QRS štíhlý, převoní   intervaly v normě, LAH * EKG 23/11/2022: interna Dr. Bartejsová, Česká, Brno - fisi 71/min Subj: ležící na lůžku, 1x zvracela, na dotaz co se děje odpovídá že nic, je unavenější, nemá chuť k jídlu, nic jí nebolí, teplotu nemá, dle příbuzné - cca týden je stav horší nevolnost navalování tři dn nyní už jen pila a trochu dibenu nejedla, teplotu nepozorovali Obj.: ECOG 3  váha 75kg výška 154cm ležící v lůžku, odpovídá spíše jednoslovně orientovaná, AS reg.  břicho klidné, měkké, bez rezistence, nebolestivé játra ani slezinu nehmatám, periferní uzliny: do 1 cm DKK otoky jen perimaleolárně DG.: Akutní renální selhání v terénu CHRI - k došetření, urémie, zvracení Hyperglykémie C911 CLL/malobuněčný lymfom typu CLL, diag. 7.04.2016 z nadklíčkové LU - klin.st. IV A non-bulky, patol. lymfadenopatie obou nadklíčků do   19 mm, L.axily a v RP max. 28mm, leukocytóza, lymfocytóza klonální - 12/2016 PET/CT na MOÚ, kde velikostní i početná progrese lymfadenopatie,   největší LU v tříslech 12x22mm, tedy nadále non-bulky - 6/2/2017 prognostické faktory: komplexní karyotyp, del 17p, 13q, PAT   pozit, TP 53 mutace potvrzena!  suchá aspirace ze SP v úvodu - 1. linie terapie: 5xRCP od 6/3-6/6/2017, klinický efekt SD - s ohledem na absenci zásadní symptomatologie a přítomnost dle 17p   a komplexního karyotypu při progresi nemoci v 2. linii campath, pro   zhoršení lymfedemu PHK kontrolní CT restaging - efekt progrese! - dle CT 12/10/2017 generalizovaná lymfadenopatie s maximem v dutině   břišní, kde max průměr až 150mm - pulz kortikoidů od 6/12/2017 - 2. linie terapie: alemtuzumab od 11/12/2017 do 3/4/2018, klin. efekt PD - další progrese nemoci, indikuji podání pulzního dexamethasonu -  14/9/2018 - CLL s mutací TP53, více jak 1 linie terapie, ECOG 1 - indikuji podání ibrutinibu, do 10/2019 byla výborná tolerance - ibrutinib přerušen pro herpes zoster - dle CT restagingu 14/11/2019 výrazná regrese lymfadenopatie, tedy   léčebná odpověď PR - od 17/2/2020 start ibrutinibu 140mg/den - k 25/5/2021 klinicky trvá parciální remise - ibrutinib t.č. přerušen pro   kardiální dekempenzaci, fibrilaci síní a progresi anemie při antikoag.   terapii a kožních krvácivých projevech - k 7/12/2021 trvá léčebná odpověď PR i dle CT restagingu - k 3/5/2022 pancytopenie doplněna SP kde infiltrace cLL bez dysplázií - RAi IV A progrese CLL, volíme terapii Zydelig 150mg/den, start 17.5.2022 - 31.5.2022 přerušení pro GIT intoleranci - nevolnost, zvracení - od 8/2022 symptomatická léčba - substituční terapie + malá dávka kortikoidů - k 31/10/2022 již není efekt kortikoterapie, progreduje trombocytopenie -   po domluvě s pacietkou se pokusíme nemoc ovlivnit BTKi 2. generace   acalabutinibem -  pro trombocytopenii start v redukované dávce a   kontrola za 2 týdny - k 5/12/2022 jednoznačný efekt terapie - pro infekci přerušeno od 12.12.2022 - k 28.12.2022 restart terapie - 9/1/2023 zjevný efekt terapie, nyní nutné přerušení pro CHRI Infekce SARS-CoV-2, PCR pozit 12.12.2022 - s přidruženou bakteriální superinfekcí - ter. za hospitalizace ve FNUSA Infekce SARS-COV-2 diag 19/7/2022 - zaléčena monupiravirem + ATB, růstové faktory GCSF Dušnost a slabost při kardiálním selhávání a anemickém syndromu 5/2022 Akutní progrese CHRI, hyeprkalémie a hyponatrémie 5/2022 Herpes zoster v dermatomu n. V vlevo 9/2019 - 1. linie terapie aciklovir, po snížení dávek zhoršení loklálního nálezu - 2. linie od 8/10/2019 valaciklovir s efektem, ponechávám zatím v   profylaxi - při profylaktické dávce od 29/10/2019 nový výsev na bradě, tedy opět   terapetická dávka - 17/2/2020 zhojeno ad integrum, sek. profylaxe valacyklovir Perzistující fibrilace síní - dle echo výrazná dilatace PK a lehká plicní hypertenze Chronické selhávání ledvin CKD st 3bna hranici IV Karcinom mammy vpravo pT2pNIb2M0, invazivní smíšený lobulární a duktální   karcinom, diag 3/1197 - st.p. chemo a radioterapii + následné hormonoterapii, ukončeno vše 1997,   od té doby remise - dokumentace o typu chemoterapie chybí Impigement syndrom pravého ramene, forzen shoulder vpravo Diabetes mellitus II typu na dietě a PAD Hypercholesterolemie Latentní hypothyreoza dle odběrů 2/2017 St.p. hysterektomii se separovanou abrazí 11/2017, histologicky benigní nález - endometriální polyp St.p.  vakcinaci proti COVID-19, 2. dávka 7/2021 Pfizer Medikace: Berodual při potížích Metformin mylan 500mg tbl. 1-0-0 Toviaz 8mg tbl. 1-0-0 Euthyrox 50ug tbl. 1/2-0-0 nalačno Milurit 300mg tbl. 1-0-0 Valtrex 500mg tbl. 1-0-1 - trvá profylaxe pro obličejovou formu herpes  simplex generaliz. u těžce imunokompromitované pacientky včetně lokalit u  očí, s opakovaným výsevem i na profylaxi - dávku upravit vzhledem k renálním parametrům... Furon 40mg tbl. 1-1/2-0 Verospiron 25mg 1-0-0 Prednison 20mg 1-0-0 Diben sipping 1x denně Calquence 100mg 1-0-0 ob den - nyní přerušit na stacionáři dnes FR1/1 500ml iv a HMR 6j sc Další postup: Pacientka dnes nově s akutním renálním selháním, uremická, zvracení, hyperglykémie. Stran chrnoické leukémie efekt calquence zjevný ale pro komplikace nyní nutné přerušení, obnova v redukované dávce při stabilizaci stavu. Prognoza pacientky stran chronické leukémie by mohla být více jak rok, nicméně nutné vzít v úvahu věk a ostatní komorbidity. Indikována hospitalizace na spádovém interním pracovišti domluveno s Dr Chvátaovou IKAK I interna FN USA. Pacientka kardiopulmonálně kompenzovaná schopna převozu sanitou. - na nízkprahový urgentní příjem IKAK, k hospitalizaci. Děkuji velice 130/70 100/min naše konzultace lze na 53223 3562. ')\n",
      "(26015332, 2480460, 3436, datetime.date(2023, 1, 9), datetime.time(15, 6), 41742, '', 'C911 ', 'venetoklax příjem IHOK                                      ', 'Chronická lymfocytická leukemie z B-buněk                   ', '', 'studie LOXO 20022, pacient číslo 2201-440 platí informované souhlasy studie LOXO 20022 ------------------------------------------------------ pacient naplnuje všechna inclusion kritéria, má  exclusion kritérium infekce dne 9.1.2023 psoeldní den, kdy je možná randomizace je 10.1.23, ale to ifnekce nebude doléčená informována monitorka studie medical history mikroskopická hematurie nejasné etiologie- infekce neprokázána, PSA v normě, CT IV urografie v normě,, uretrocystoskopie 5.1.2023 v normě, jen patrný útalk močového měcháře uzlinami zvenčí nově nasazena medikace lannatam 0,4mg p.o. denně od 5.1.23 hepatitidy negativní CMV negativní CT 16.12.22 Masivní lymfadenopatie ve všech krčních prostorech oboustranně - největší vpravo 68x38mm, uzliny jsou nakupeny paketovitě, stále ještě izolované, homogenní. Dále se uzlinové pakety propagují podél cévních svazků do nad/podklíčku i axill oboustranně - zde největší vpravo 52x32mm, vlevo 43x36mm. Štítná žláza homogenní - pouze vpravo v P laloku drobná hypodenzita 4mm. V mediastinu i v obou hilech také lymfadenopatie - v oblasti P hilu a subkarinně až splývající do homogenního infiltrátu vel.55x32 v P hilu a 52x29 subkarinně. Dále uzliny patrné paraaortálně a retrokrurálně. 3 nápadnější LU i při kardii. Plicní křídla jsou vzdušná, bez fluidothoraxu. Vpravo v S4 ložisko vel.8mm - větší než minule. Vlevo vazivový pruh v S5/8, v S9 a 10 jemná vazivová zesílení, místy zesílení inter/intralobulárního vaziva a bronchioloektázie. Játra KK v MDC 170mm,nativně jen lehce snížené denzity, postkontrastně jsou patrné tři hypodenzity stejné jako minule charakteru cyst. Žl.cesty štíhlé, žlučník se nezobrazuje. Porta, VMS i robustní VL se homogenně sytí. Slezina vel.207x93mm(VDxML) postkontrastně bez ložisek. Ledviny nativně bez denzit lithiázy, postkontrastně drobné cystičky, DS v normě. Pravá nadledvina štíhlá, vlevo v centrální porci drobný nodulus do 10mm. Slinivka bez zjevné expanze, v jejím okolí výrazně zvýšená denzita tuku, zmnoženy LU - vzájemně od sebe špatně odlišitelné. Za portou LU je LU vel.43x17mm, paraaortálně jsou nakupeny uzliny vel.do 25mm a neostré konturace. Paket uzlin a výrazný prosak tuku je i kolem radixu mesenteria. Pakety uzlin se táhnou i podél il.cévních svazků - vpravo max.97x57mm, vlevo 105x53mm, tyto uzliny v MP utlačují močový měchýř, který málo naplněn. prostata s centrálními hrubými kalcifikacemi. Prosáklá je i stěna rekta i tuk v jeho okolí, výrazný prosak tuku jak mesenteriálně, tak v RP. CD volné. Patologicky zvětšené LU prokazuji i v tříslech, vpravo max.41mm, vlevo 46mm. Skelet - hyperkyfóza hrudní i prohloubená bederní lordóza, skelet je lehce mléčné struktury. Degenerativní změny skeletu jsou patrné zejména v kaudální krční porci, na vrcholu Th kyfózy. Redukce MOP L3/4 s degen.změnami OT L3 dorsálně s jemným posunem dorsálně. RES. Výrazná progrese nálezu - dnes masivní lymfadenopatie ve všech vyšetřovaných oblastech, hepatomegalie, splenomegalie, prosak mesenteriálního a RP tuku. -------------------------------------------- cytogenetika FISH je delece genu TP53 4.3.2020 IGVH homologie 100% flow 3.11.22CD 19+skappa 81,9% CD 19+slambda 1,1% -------------------------------------------- histologie uzlina vpravo na krku odbr 28.11.22 Mikropopis: Lymfatická uzlina s architektonikou zcela setřenou plochami převážně malých kulatých lymfocytů, dále minoritně v proliferačních centrech (pseudofoliklech) jsou přítomny větší prolymfocyty i velké paraimunoblasty. Proliferační centra jsou místy neobvykle velká: přesahují 20x a úsekovitě jsou konfluentní, proliferační aktivita v nich dle Ki-67 je zvýšená (přesahuje 40%), počet mitóz v centru přesahuje 2,4. Neoplastické buňky jsou CD 20+, CD 19+, CD 79a+, PDL. PD-L1 (imunohistochemie): Protilátka: PDL1 Klon 22C3 (Agilent) Nález: nádorové buňky jsou v počtu více jak 100 vitálních elementů a jsou v cca 1-5% pozitní na expresi PDL-1. Externí kontrola je pozitivní (tonzila). Res.: PD-L1: pozitivní ? exprese PD-L1 zastižena ve více jak 1% nádorových buněk. Závěr: Obraz zralé B neoplázie typu CLL/SLL s rysy progrese (WHO 2017). Bez známek Richterova syndromu/blastického zvratu. PET/CT 8.12.22 nízké SUV ve všech lokalziaícch, paket uzlin v retroperitoneu 184x83mmm, pakety v pánvi 131x65mm * clearence kreatininu: muž, 71 let, hmotnost 92kg , kreatinin 125= 61ml/min riziko TLS je vysoké  paket uzlin v retroperitoneu 105x53mm a 97x57mm portální uzliny 43x17mm v pravém hilu plic 55x32mm, v praévm hilu subkarinně 52x29mm slezina 207x93mm játra 170mm + lymfocytoza nad 25 tisíc/L ----------------------- --------- subj má  infekci horních cest dýchacích, teploty neměl smrká, sekrece je žlutá a trošku kašle, chrapot a dostal od svého praktického lékaře antibiotika medoxin 500mg 2x denně od 30.12.22 protože chrapot trvá, tak bere dále znovu chrapot a sekrece z nosu a kašel, afebrilní v krku nemá bolesti, polykací potíže nemá břicho nebolí, stolice je pravidelné nekrvácí zvětšující se uzliny na krku a v třísle oboustranně objektivně : bez dušnosti ,bez itkeru ,bez cyanozy TK 130/80 P 80 reg D 10/min jazyk vlhký, bez povlaku, tonsily bilat hypertrofické velikost 2x2cm lymfadneopatie na krku bilat několi kskupin uzlin 3x3cm 4x4cm axily bilat 4x4cm třísla vpravo 5x5cm,, vlevo 6x6cm břicho měkké, bez hmatné rezistnece játra nezvětšene,a slezina nezvětena dkk bez otoků AE infekce horních cest dcýacícch grade 2, start 30.12.2022,  trvá,dnes 9.1.23 etiologie chřipka typu A dle  wstěru není souvislost se studiovými proceedurami ani s sutidovou terapií SA žádné RES:Chřipka typu A, test dne 9.1.23 Infekce horníchcest dýchaících  od 30.12.22, grade 2, nen ísouvislost se studiovu medikací ani s studiovými procedurami, ATB do 8.1.23 - kontrola 9.1.23 a nově nssazuji tamiflu - dnes stěr SARS COV 2 negativní pzotiivní chřipkpa typu A RTG S+P bez infitlrace, dle RTG PND maxilární sinusitis bilaterálnbě - indikuji tamiflu 75mg 2x denně pod dobu 5 dní indikuji  ORL vyšetření, pokračovat medoxin 500mg CLL, mutant p53 od 8.12.2014 dg z flow 20.1.2009 jako klin 0A dle Raie,BInet A někdy pocení - trisomie 12, funkční p53, nemutovaný gen pro IgVH, Rai IA - lymfadenopatie generalizovaná, uzliny asymtomatické - 1. linie léčby 3x FCR od 8.12.2014 do 18.2.2015, efekt klinicky CR - 2.8.2017 progrese trombocytopenie a lymfocytozy, progrese po 30 měsících - prognostické faktory 20.9.17 trisomie 12, t /1,16), CD 38 negativní,   IgVH nemutovaný, p 53 funkční - 8.12.2014 mutace TP 53 50% alel - 2. linie léčby 13.3.2018 4x FCR do 13.6.2018, efekt SD - trvá   trombocytopenie, regrese lymfocytozy a lymfadenopatie - 30/7/2018 normalizace KO, Trc 111, v další progresi nemoci je vhodná   terapie kinázovým inhibitorem - 12.11.2018 progrese lymfocytozy, trvá trombocytopenie lehká - CT 26/11/2018 masivní retroperitoneální LU 10x5cm, bilat. axilární - 3. linie - start ibrutinib 6.12.2018 - pro lehkou trombocytopeniii provedena SP, kde nadále významá infiltrace - dle CT restagingu výrazná regrese povšechné lymfadenopatie, PR - dále subfebrilie, lymfadenopatie krku v dif dg progrese onemocnění, - 14.2.2020 flow PK - 57% CLL, v dif. dg infekce či progrese nemoci - PET/ CT 31.3.2020 bez progrese, bez jednoznačných projevů Richterova   syndromu, dle prognostických faktorů mutace TP 53, cytogeneticky   nehodnotitelné, trisomie 12 v 15%, ostatní FISH negativní - 16.3.2020 pokračování terapie imbruvica, efekt PR - 3.11.2022 progrese, suspektní transformace do Richterova syndromu - dle sonografie břicha 3.11.22 progrese lymfadenopatie - 7.11.22 odběry prognostických faktorů - flow PK bez známek transformace   cytogenetika bude do 12.12.22 - odběr LU na ORL 28.11.22 k vyloučení Richterovy transformace - vyloučena Richterova transformace dle histolgopie 28.11.22   a dle PET/CT 8.12.22 indikujeme terapii ve studii LOXO 20022 screening dne 13.12.22, plán zahájení léčby 3.1.,2023 odložen, dne 2.1.22 CT iv. urografie a následně flexibilní uretrocystoskopie v lokální anestezii, původní plán 19.1.23, zkusím,e domluvt v prvním týdnu v lednu - plán randomizace 9.1.23 zruen pro infekci plánován rescreeening po odeznění infekce a zahájení léčby po rescreeningu za hospitalizace pro vysoké riziko TLS Mikroskopická hematurie od 12.12.2022 grade 1 ( medical history) kultivace moči negativní 14.12.22  urologické vyšetření - Modřice, dr Petr Řehořek sono ledvin ledviny v normě, duté systémy bilat bez městání, vlevo ds prosvítá, bez patrné lithiázy nad 5mm, močový měchýř je hladkých kontru, okolí bez patologie, prostata prominuje do měcháýře 15mm, nehomogenního vzhledu odběr moč kultivace negativní odběr PSA 1,18 v normě CT iv urografie dne 2.1.23 v normě - klinicky bez obtíží,  5.1.23  uretrocystoskpiopie v normě, jen patrný útalůk močového měchýře uzlinami zvenčí hodnotím jako grade 1 Hiátová hernie, gastritis dg 5.4.2019, nyní bez obtíží, grade 1 trvá Těžká esofagitis st IV dne 5.4.2019 - histologie: struktury ulcerace a ojed. lamelky žaludeční sliznice s    intestinální metaplázií. HP -, Bez dysplázie/ neoplázie. - po medikaci  controloc a kinito upraveno - kontrol.vyšetření HFS 3.7.2019: nález trvá, do medikace emanera a   ursosan - kontrolní GFS 25.11.2019 esofagitis zhojena, sledování netřeba - 13.12.22 bez obtíží,jen medical history, grade 0 ukončeno Vertigo od 12/2018 dále nepokračuje, grade 0, ukončeno Hyperkyfóza hrudní i prohloubená bederní lordóza, skelet je lehce mléčné struktury. Degenerativní změny skeletu jsou patrné zejména v kaudální krční porci, na vrcholu Th kyfózy. Redukce MOP L3/4 s degen.změnami OT L3 dorsálně s jemným posunem dorsálně. start 15.5.2014 dle CT - grade 1, klinicky bez obtíží Hypertenze grade 2, dg UK prosinec 2016 Hypertrofie prostaty, dg UK červen 2015, grade 1 Syndrom karpál tunelu, grade 1, operace 1996, trvá, minimální obtíže Medikace: Prestarium neo 5mg 1x1 od prosince 2016 na hypertenzi Agen 5mg tbl. 1-0-0 od června 2018 na hypertenzi Milurit 300mg tbl. 1-0-0 nově od 3.11.2022 profylaxe hyperurikémie Medoxin 500mg 2x1 porkačovat ( bere od 30.12.22) nosní kapky  5x denně do obou nosních dírek ACC long 1 tbl denně nově Tamiflu 75 mg 1-0-1 po dobu 5 dní ----------------------------------------------- randomizace pro infekci nemůže být, screening failure - infekce po odeznění ifnekce je plán rescreeningu ------------------------------------------------------ + odběry a  pán odchází domů, domluva tepleofnická dle výsledků KO diff, rtc ZBV,KM,LD, CRP, Ca, P, Mg --------------------------------------------- Pacient byl poučen o možném doplatku na předepsaný lék. RP:  1x TAMIFLU 75MG CPS DUR 10   1-0-1      1x MEDOXIN 500MG TBL FLM 10 II   1-0-1 odeslány recepty eletronicky teleofnick ádomoluva zítra se pán staví pro žádnaku na ORL Další kontrola: 12.01.2023 10:00 ')\n"
     ]
    }
   ],
   "source": [
    "##fetching all columns from database\n",
    "cursor.execute(f\"select * from {tableName}\")\n",
    "fetched_data = cursor.fetchmany(3)\n",
    "for row in fetched_data:\n",
    "    print(row)"
   ]
  },
  {
   "cell_type": "markdown",
   "id": "331edaec-3906-4b6f-a627-b2e9381f8b97",
   "metadata": {},
   "source": [
    "# Adding vector embeddings to the table"
   ]
  },
  {
   "cell_type": "markdown",
   "id": "eadf96e5-570f-4a44-8e26-cf82d642c578",
   "metadata": {},
   "source": [
    "## Create embeddings for the descriptions and add to the dataframe"
   ]
  },
  {
   "cell_type": "code",
   "execution_count": 13,
   "id": "ccb7af0c-c821-44d9-b3e6-aff5bf1dd6b0",
   "metadata": {},
   "outputs": [],
   "source": [
    "from sentence_transformers import SentenceTransformer\n",
    "\n",
    "# Load a pre-trained sentence transformer model. This model's output vectors are of size 384\n",
    "model = SentenceTransformer('sentence-transformers/distiluse-base-multilingual-cased-v2')"
   ]
  },
  {
   "cell_type": "code",
   "execution_count": 14,
   "id": "bd98139e-b74a-4afa-b53b-b98f518f9d1c",
   "metadata": {},
   "outputs": [],
   "source": [
    "# Generate embeddings for all descriptions at once. Batch processing makes it faster\n",
    "embeddings = model.encode(df['amb_zaz_text'].tolist(), normalize_embeddings=True)\n",
    "\n",
    "# Add the embeddings to the DataFrame\n",
    "df['amb_zaz_text_vector'] = embeddings.tolist()"
   ]
  },
  {
   "cell_type": "code",
   "execution_count": 25,
   "id": "7eca620e-41fd-474c-9a66-5fa60a6da996",
   "metadata": {},
   "outputs": [
    {
     "data": {
      "text/html": [
       "<div>\n",
       "<style scoped>\n",
       "    .dataframe tbody tr th:only-of-type {\n",
       "        vertical-align: middle;\n",
       "    }\n",
       "\n",
       "    .dataframe tbody tr th {\n",
       "        vertical-align: top;\n",
       "    }\n",
       "\n",
       "    .dataframe thead th {\n",
       "        text-align: right;\n",
       "    }\n",
       "</style>\n",
       "<table border=\"1\" class=\"dataframe\">\n",
       "  <thead>\n",
       "    <tr style=\"text-align: right;\">\n",
       "      <th></th>\n",
       "      <th>ic_amb_zad</th>\n",
       "      <th>ic_amb_karta</th>\n",
       "      <th>ic_pac</th>\n",
       "      <th>dat_zad</th>\n",
       "      <th>cas_zad</th>\n",
       "      <th>prac_od</th>\n",
       "      <th>dg_kod</th>\n",
       "      <th>i_dg_kod</th>\n",
       "      <th>text_dg</th>\n",
       "      <th>i_text_dg</th>\n",
       "      <th>poz_text</th>\n",
       "      <th>amb_zaz_text</th>\n",
       "      <th>amb_zaz_text_vector</th>\n",
       "    </tr>\n",
       "  </thead>\n",
       "  <tbody>\n",
       "    <tr>\n",
       "      <th>0</th>\n",
       "      <td>25775488</td>\n",
       "      <td>3702287</td>\n",
       "      <td>257353</td>\n",
       "      <td>2023-01-09</td>\n",
       "      <td>14:47:00</td>\n",
       "      <td>41742</td>\n",
       "      <td></td>\n",
       "      <td>C911</td>\n",
       "      <td></td>\n",
       "      <td>Chronická lymfocytická leukemie z B-buněk     ...</td>\n",
       "      <td></td>\n",
       "      <td>Odběr:09.01.2023 10:53 -----------------------...</td>\n",
       "      <td>[0.0362723171710968, 0.01610576920211315, 0.03...</td>\n",
       "    </tr>\n",
       "    <tr>\n",
       "      <th>1</th>\n",
       "      <td>26043815</td>\n",
       "      <td>4712677</td>\n",
       "      <td>1773067</td>\n",
       "      <td>2023-01-09</td>\n",
       "      <td>13:11:00</td>\n",
       "      <td>41742</td>\n",
       "      <td></td>\n",
       "      <td>C911</td>\n",
       "      <td>calquence                                     ...</td>\n",
       "      <td>Chronická lymfocytická leukemie z B-buněk     ...</td>\n",
       "      <td></td>\n",
       "      <td>Počátek vyšetření: 09.01.2023 12:53 Odběr:09.0...</td>\n",
       "      <td>[0.040446750819683075, 0.12473584711551666, 0....</td>\n",
       "    </tr>\n",
       "    <tr>\n",
       "      <th>2</th>\n",
       "      <td>26015332</td>\n",
       "      <td>2480460</td>\n",
       "      <td>3436</td>\n",
       "      <td>2023-01-09</td>\n",
       "      <td>15:06:00</td>\n",
       "      <td>41742</td>\n",
       "      <td></td>\n",
       "      <td>C911</td>\n",
       "      <td>venetoklax příjem IHOK                        ...</td>\n",
       "      <td>Chronická lymfocytická leukemie z B-buněk     ...</td>\n",
       "      <td></td>\n",
       "      <td>studie LOXO 20022, pacient číslo 2201-440 plat...</td>\n",
       "      <td>[0.05710926279425621, 0.013156612403690815, -0...</td>\n",
       "    </tr>\n",
       "    <tr>\n",
       "      <th>3</th>\n",
       "      <td>25567942</td>\n",
       "      <td>5809559</td>\n",
       "      <td>2135408</td>\n",
       "      <td>2023-01-09</td>\n",
       "      <td>15:04:00</td>\n",
       "      <td>41742</td>\n",
       "      <td></td>\n",
       "      <td>C911</td>\n",
       "      <td>kontrola                                      ...</td>\n",
       "      <td>Chronická lymfocytická leukemie z B-buněk     ...</td>\n",
       "      <td></td>\n",
       "      <td>Počátek vyšetření: 09.01.2023 14:39 Odběr:09.0...</td>\n",
       "      <td>[0.054597243666648865, 0.07014299929141998, 0....</td>\n",
       "    </tr>\n",
       "    <tr>\n",
       "      <th>4</th>\n",
       "      <td>25833197</td>\n",
       "      <td>6059137</td>\n",
       "      <td>86335</td>\n",
       "      <td>2023-01-09</td>\n",
       "      <td>15:09:00</td>\n",
       "      <td>41742</td>\n",
       "      <td></td>\n",
       "      <td>C911</td>\n",
       "      <td>imbruvica                                     ...</td>\n",
       "      <td>Chronická lymfocytická leukemie z B-buněk     ...</td>\n",
       "      <td></td>\n",
       "      <td>Odběr:09.01.2023 10:54 -----------------------...</td>\n",
       "      <td>[0.0338958241045475, 0.0340065136551857, 0.037...</td>\n",
       "    </tr>\n",
       "    <tr>\n",
       "      <th>...</th>\n",
       "      <td>...</td>\n",
       "      <td>...</td>\n",
       "      <td>...</td>\n",
       "      <td>...</td>\n",
       "      <td>...</td>\n",
       "      <td>...</td>\n",
       "      <td>...</td>\n",
       "      <td>...</td>\n",
       "      <td>...</td>\n",
       "      <td>...</td>\n",
       "      <td>...</td>\n",
       "      <td>...</td>\n",
       "      <td>...</td>\n",
       "    </tr>\n",
       "    <tr>\n",
       "      <th>5567</th>\n",
       "      <td>27493925</td>\n",
       "      <td>6395394</td>\n",
       "      <td>19532</td>\n",
       "      <td>2023-12-28</td>\n",
       "      <td>12:42:00</td>\n",
       "      <td>41742</td>\n",
       "      <td></td>\n",
       "      <td>C911</td>\n",
       "      <td>LOXO, jen odběr KO                            ...</td>\n",
       "      <td>Chronická lymfocytická leukemie z B-buněk     ...</td>\n",
       "      <td></td>\n",
       "      <td>Počátek vyšetření: 28.12.2023 08:41 C10 Studie...</td>\n",
       "      <td>[0.06402770429849625, 0.05141748860478401, 0.0...</td>\n",
       "    </tr>\n",
       "    <tr>\n",
       "      <th>5568</th>\n",
       "      <td>27551604</td>\n",
       "      <td>5302898</td>\n",
       "      <td>2325924</td>\n",
       "      <td>2023-12-28</td>\n",
       "      <td>12:38:00</td>\n",
       "      <td>41742</td>\n",
       "      <td></td>\n",
       "      <td>C911</td>\n",
       "      <td>pouze odběr KO a odejít                       ...</td>\n",
       "      <td>Chronická lymfocytická leukemie z B-buněk     ...</td>\n",
       "      <td></td>\n",
       "      <td>Počátek vyšetření: 28.12.2023 08:35 LOXO-BTK-2...</td>\n",
       "      <td>[0.035097360610961914, -0.0036271417047828436,...</td>\n",
       "    </tr>\n",
       "    <tr>\n",
       "      <th>5569</th>\n",
       "      <td>27551590</td>\n",
       "      <td>4465360</td>\n",
       "      <td>374750</td>\n",
       "      <td>2023-12-28</td>\n",
       "      <td>12:43:00</td>\n",
       "      <td>41742</td>\n",
       "      <td></td>\n",
       "      <td>C911</td>\n",
       "      <td>pouze odběr KO a odejít                       ...</td>\n",
       "      <td>Chronická lymfocytická leukemie z B-buněk     ...</td>\n",
       "      <td></td>\n",
       "      <td>C10D1 studie LOXO-BTK-20030, subj 2201-405 ---...</td>\n",
       "      <td>[0.010818377137184143, 0.03816291689872742, 0....</td>\n",
       "    </tr>\n",
       "    <tr>\n",
       "      <th>5570</th>\n",
       "      <td>27565846</td>\n",
       "      <td>6849977</td>\n",
       "      <td>2100404</td>\n",
       "      <td>2023-12-29</td>\n",
       "      <td>09:09:00</td>\n",
       "      <td>41742</td>\n",
       "      <td></td>\n",
       "      <td>C911</td>\n",
       "      <td></td>\n",
       "      <td>Chronická lymfocytická leukemie z B-buněk     ...</td>\n",
       "      <td></td>\n",
       "      <td>Pac. s CLL/SLL léčená původně v r 2020 cestou ...</td>\n",
       "      <td>[-0.04853430017828941, 0.03359058126807213, -0...</td>\n",
       "    </tr>\n",
       "    <tr>\n",
       "      <th>5571</th>\n",
       "      <td>27566474</td>\n",
       "      <td>6850110</td>\n",
       "      <td>665512</td>\n",
       "      <td>2023-12-29</td>\n",
       "      <td>10:44:00</td>\n",
       "      <td>41742</td>\n",
       "      <td></td>\n",
       "      <td>C911</td>\n",
       "      <td></td>\n",
       "      <td>Chronická lymfocytická leukemie z B-buněk     ...</td>\n",
       "      <td></td>\n",
       "      <td>~uo~~do~TELEFONNÍ KONTAKT:~df~~uf~ pacient Pac...</td>\n",
       "      <td>[0.00130856828764081, 0.03644166886806488, -0....</td>\n",
       "    </tr>\n",
       "  </tbody>\n",
       "</table>\n",
       "<p>5572 rows × 13 columns</p>\n",
       "</div>"
      ],
      "text/plain": [
       "      ic_amb_zad  ic_amb_karta   ic_pac     dat_zad   cas_zad  prac_od dg_kod  \\\n",
       "0       25775488       3702287   257353  2023-01-09  14:47:00    41742          \n",
       "1       26043815       4712677  1773067  2023-01-09  13:11:00    41742          \n",
       "2       26015332       2480460     3436  2023-01-09  15:06:00    41742          \n",
       "3       25567942       5809559  2135408  2023-01-09  15:04:00    41742          \n",
       "4       25833197       6059137    86335  2023-01-09  15:09:00    41742          \n",
       "...          ...           ...      ...         ...       ...      ...    ...   \n",
       "5567    27493925       6395394    19532  2023-12-28  12:42:00    41742          \n",
       "5568    27551604       5302898  2325924  2023-12-28  12:38:00    41742          \n",
       "5569    27551590       4465360   374750  2023-12-28  12:43:00    41742          \n",
       "5570    27565846       6849977  2100404  2023-12-29  09:09:00    41742          \n",
       "5571    27566474       6850110   665512  2023-12-29  10:44:00    41742          \n",
       "\n",
       "     i_dg_kod                                            text_dg  \\\n",
       "0       C911                                                       \n",
       "1       C911   calquence                                     ...   \n",
       "2       C911   venetoklax příjem IHOK                        ...   \n",
       "3       C911   kontrola                                      ...   \n",
       "4       C911   imbruvica                                     ...   \n",
       "...       ...                                                ...   \n",
       "5567    C911   LOXO, jen odběr KO                            ...   \n",
       "5568    C911   pouze odběr KO a odejít                       ...   \n",
       "5569    C911   pouze odběr KO a odejít                       ...   \n",
       "5570    C911                                                       \n",
       "5571    C911                                                       \n",
       "\n",
       "                                              i_text_dg poz_text  \\\n",
       "0     Chronická lymfocytická leukemie z B-buněk     ...            \n",
       "1     Chronická lymfocytická leukemie z B-buněk     ...            \n",
       "2     Chronická lymfocytická leukemie z B-buněk     ...            \n",
       "3     Chronická lymfocytická leukemie z B-buněk     ...            \n",
       "4     Chronická lymfocytická leukemie z B-buněk     ...            \n",
       "...                                                 ...      ...   \n",
       "5567  Chronická lymfocytická leukemie z B-buněk     ...            \n",
       "5568  Chronická lymfocytická leukemie z B-buněk     ...            \n",
       "5569  Chronická lymfocytická leukemie z B-buněk     ...            \n",
       "5570  Chronická lymfocytická leukemie z B-buněk     ...            \n",
       "5571  Chronická lymfocytická leukemie z B-buněk     ...            \n",
       "\n",
       "                                           amb_zaz_text  \\\n",
       "0     Odběr:09.01.2023 10:53 -----------------------...   \n",
       "1     Počátek vyšetření: 09.01.2023 12:53 Odběr:09.0...   \n",
       "2     studie LOXO 20022, pacient číslo 2201-440 plat...   \n",
       "3     Počátek vyšetření: 09.01.2023 14:39 Odběr:09.0...   \n",
       "4     Odběr:09.01.2023 10:54 -----------------------...   \n",
       "...                                                 ...   \n",
       "5567  Počátek vyšetření: 28.12.2023 08:41 C10 Studie...   \n",
       "5568  Počátek vyšetření: 28.12.2023 08:35 LOXO-BTK-2...   \n",
       "5569  C10D1 studie LOXO-BTK-20030, subj 2201-405 ---...   \n",
       "5570  Pac. s CLL/SLL léčená původně v r 2020 cestou ...   \n",
       "5571  ~uo~~do~TELEFONNÍ KONTAKT:~df~~uf~ pacient Pac...   \n",
       "\n",
       "                                    amb_zaz_text_vector  \n",
       "0     [0.0362723171710968, 0.01610576920211315, 0.03...  \n",
       "1     [0.040446750819683075, 0.12473584711551666, 0....  \n",
       "2     [0.05710926279425621, 0.013156612403690815, -0...  \n",
       "3     [0.054597243666648865, 0.07014299929141998, 0....  \n",
       "4     [0.0338958241045475, 0.0340065136551857, 0.037...  \n",
       "...                                                 ...  \n",
       "5567  [0.06402770429849625, 0.05141748860478401, 0.0...  \n",
       "5568  [0.035097360610961914, -0.0036271417047828436,...  \n",
       "5569  [0.010818377137184143, 0.03816291689872742, 0....  \n",
       "5570  [-0.04853430017828941, 0.03359058126807213, -0...  \n",
       "5571  [0.00130856828764081, 0.03644166886806488, -0....  \n",
       "\n",
       "[5572 rows x 13 columns]"
      ]
     },
     "execution_count": 25,
     "metadata": {},
     "output_type": "execute_result"
    }
   ],
   "source": [
    "df"
   ]
  },
  {
   "cell_type": "markdown",
   "id": "dbcb6dd8-e89a-4fd5-be26-d3ab728bf710",
   "metadata": {},
   "source": [
    "## Delete and create the table in IRIS again to add embeddings\n",
    "### (Note: Alternately, the Alter Table command can be used to just add the new embeddings column : https://docs.intersystems.com/irislatest/csp/docbook/DocBook.UI.Page.cls?KEY=RSQL_altertable#RSQL_altertable_synopsis )"
   ]
  },
  {
   "cell_type": "code",
   "execution_count": 18,
   "id": "5c3a27cf-e552-4156-ab00-f05abbca6d35",
   "metadata": {},
   "outputs": [
    {
     "data": {
      "text/plain": [
       "0"
      ]
     },
     "execution_count": 18,
     "metadata": {},
     "output_type": "execute_result"
    }
   ],
   "source": [
    "try:\n",
    "    cursor.execute(f\"DROP TABLE {tableName}\")  \n",
    "except:\n",
    "    pass\n",
    "\n",
    "## note the additional description_vector VECTOR(DOUBLE, 384) field to store embeddings\n",
    "tableDefinition = \"\"\"(ic_amb_zad INT, ic_amb_karta INT, ic_pac INT, \n",
    "                    dat_zad DATE, cas_zad DATETIME, prac_od INT, dg_kod MEDIUMTEXT, i_dg_kod MEDIUMTEXT, \n",
    "                    text_dg MEDIUMTEXT, i_text_dg MEDIUMTEXT, poz_text MEDIUMTEXT, amb_zaz_text LONGTEXT, amb_zaz_text_vector VECTOR(DOUBLE, 384))\"\"\"\n",
    "cursor.execute(f\"CREATE TABLE {tableName} {tableDefinition}\")"
   ]
  },
  {
   "cell_type": "markdown",
   "id": "d616cee0-6b52-4f32-a9a0-62ffaf9ee775",
   "metadata": {},
   "source": [
    "## Add all the rows to the table in IRIS"
   ]
  },
  {
   "cell_type": "markdown",
   "id": "1253b140-2778-417d-a53b-f6d021d99a1c",
   "metadata": {},
   "source": [
    "### Adding the entire dataframe as a single batch (faster)"
   ]
  },
  {
   "cell_type": "code",
   "execution_count": 26,
   "id": "b4b5d452-f493-4050-886f-5d85e91832fe",
   "metadata": {},
   "outputs": [
    {
     "name": "stdout",
     "output_type": "stream",
     "text": [
      "time taken to add 5572 entries: 4.309087753295898 seconds\n"
     ]
    }
   ],
   "source": [
    "sql = f\"\"\"Insert into {tableName} (ic_amb_zad, ic_amb_karta, ic_pac, \n",
    "                    dat_zad, cas_zad, prac_od, dg_kod, i_dg_kod, \n",
    "                    text_dg, i_text_dg, poz_text, amb_zaz_text, amb_zaz_text_vector) values (?,?,?,?,?,?,?,?,?,?,?,?, TO_VECTOR(?))\"\"\"\n",
    "\n",
    "start_time = time.time()\n",
    "# Prepare the list of tuples (parameters for each row)\n",
    "data = [\n",
    "    (\n",
    "        row['ic_amb_zad'], row['ic_amb_karta'], row['ic_pac'], row['dat_zad'], row['cas_zad'], row['prac_od'], row['dg_kod'], row['i_dg_kod'], row['text_dg'], row['i_text_dg'], row['poz_text'], row['amb_zaz_text'],\n",
    "        str(row['amb_zaz_text_vector']) \n",
    "    )\n",
    "    for index, row in df.iterrows()\n",
    "]\n",
    "\n",
    "cursor.executemany(sql, data)\n",
    "end_time = time.time()\n",
    "print(f\"time taken to add {len(df)} entries: {end_time-start_time} seconds\")"
   ]
  },
  {
   "cell_type": "code",
   "execution_count": 35,
   "id": "b18cd26d-6512-4d1d-9239-e05d7375eae1",
   "metadata": {},
   "outputs": [
    {
     "data": {
      "text/plain": [
       "ic_amb_zad                                                      26053765\n",
       "ic_amb_karta                                                     4402239\n",
       "ic_pac                                                           2106293\n",
       "dat_zad                                                       2023-01-02\n",
       "cas_zad                                                         08:46:00\n",
       "prac_od                                                            41742\n",
       "dg_kod                                                                  \n",
       "i_dg_kod                                                           C911 \n",
       "text_dg                                                                 \n",
       "i_text_dg              Chronická lymfocytická leukemie z B-buněk     ...\n",
       "poz_text                                                                \n",
       "amb_zaz_text           Počátek vyšetření: 02.01.2023 08:45 pacient ze...\n",
       "amb_zaz_text_vector    [0.01057382021099329, 0.027324587106704712, -0...\n",
       "Name: 12, dtype: object"
      ]
     },
     "execution_count": 35,
     "metadata": {},
     "output_type": "execute_result"
    }
   ],
   "source": [
    "df.iloc[12]"
   ]
  },
  {
   "cell_type": "code",
   "execution_count": 33,
   "id": "2a56d3e3-f2c3-43c0-bc94-a91e85431d7e",
   "metadata": {},
   "outputs": [
    {
     "ename": "RuntimeError",
     "evalue": "[SQLCODE: <-104>:<Field validation failed in INSERT, or value failed to convert in DisplayToLogical or OdbcToLogical>]\r\n[Location: <ServerLoop>]\r\n[%msg: <Field 'SchemaName.TableName.amb_zaz_text_vector' (value '3F989CC6329BAEEFC70B9E00D6C1AD50@$vector') failed validation>]",
     "output_type": "error",
     "traceback": [
      "\u001b[0;31m---------------------------------------------------------------------------\u001b[0m",
      "\u001b[0;31mRuntimeError\u001b[0m                              Traceback (most recent call last)",
      "Cell \u001b[0;32mIn[33], line 11\u001b[0m\n\u001b[1;32m      9\u001b[0m \u001b[38;5;28;01mfor\u001b[39;00m index,row \u001b[38;5;129;01min\u001b[39;00m df\u001b[38;5;241m.\u001b[39miterrows():\n\u001b[1;32m     10\u001b[0m     data \u001b[38;5;241m=\u001b[39m [(row[\u001b[38;5;124m'\u001b[39m\u001b[38;5;124mic_amb_zad\u001b[39m\u001b[38;5;124m'\u001b[39m], row[\u001b[38;5;124m'\u001b[39m\u001b[38;5;124mic_amb_karta\u001b[39m\u001b[38;5;124m'\u001b[39m], row[\u001b[38;5;124m'\u001b[39m\u001b[38;5;124mic_pac\u001b[39m\u001b[38;5;124m'\u001b[39m], row[\u001b[38;5;124m'\u001b[39m\u001b[38;5;124mdat_zad\u001b[39m\u001b[38;5;124m'\u001b[39m], row[\u001b[38;5;124m'\u001b[39m\u001b[38;5;124mcas_zad\u001b[39m\u001b[38;5;124m'\u001b[39m], row[\u001b[38;5;124m'\u001b[39m\u001b[38;5;124mprac_od\u001b[39m\u001b[38;5;124m'\u001b[39m], row[\u001b[38;5;124m'\u001b[39m\u001b[38;5;124mdg_kod\u001b[39m\u001b[38;5;124m'\u001b[39m], row[\u001b[38;5;124m'\u001b[39m\u001b[38;5;124mi_dg_kod\u001b[39m\u001b[38;5;124m'\u001b[39m], row[\u001b[38;5;124m'\u001b[39m\u001b[38;5;124mtext_dg\u001b[39m\u001b[38;5;124m'\u001b[39m], row[\u001b[38;5;124m'\u001b[39m\u001b[38;5;124mi_text_dg\u001b[39m\u001b[38;5;124m'\u001b[39m], row[\u001b[38;5;124m'\u001b[39m\u001b[38;5;124mpoz_text\u001b[39m\u001b[38;5;124m'\u001b[39m], row[\u001b[38;5;124m'\u001b[39m\u001b[38;5;124mamb_zaz_text\u001b[39m\u001b[38;5;124m'\u001b[39m], \u001b[38;5;28mstr\u001b[39m(row[\u001b[38;5;124m'\u001b[39m\u001b[38;5;124mamb_zaz_text_vector\u001b[39m\u001b[38;5;124m'\u001b[39m]))]\n\u001b[0;32m---> 11\u001b[0m     \u001b[43mcursor\u001b[49m\u001b[38;5;241;43m.\u001b[39;49m\u001b[43mexecute\u001b[49m\u001b[43m(\u001b[49m\u001b[43msql\u001b[49m\u001b[43m,\u001b[49m\u001b[43m \u001b[49m\u001b[43mdata\u001b[49m\u001b[43m)\u001b[49m\n\u001b[1;32m     12\u001b[0m end_time \u001b[38;5;241m=\u001b[39m time\u001b[38;5;241m.\u001b[39mtime()\n\u001b[1;32m     13\u001b[0m \u001b[38;5;28mprint\u001b[39m(\u001b[38;5;124mf\u001b[39m\u001b[38;5;124m\"\u001b[39m\u001b[38;5;124mtime taken to add \u001b[39m\u001b[38;5;132;01m{\u001b[39;00m\u001b[38;5;28mlen\u001b[39m(df)\u001b[38;5;132;01m}\u001b[39;00m\u001b[38;5;124m entries: \u001b[39m\u001b[38;5;132;01m{\u001b[39;00mend_time\u001b[38;5;241m-\u001b[39mstart_time\u001b[38;5;132;01m}\u001b[39;00m\u001b[38;5;124m seconds\u001b[39m\u001b[38;5;124m\"\u001b[39m)\n",
      "\u001b[0;31mRuntimeError\u001b[0m: [SQLCODE: <-104>:<Field validation failed in INSERT, or value failed to convert in DisplayToLogical or OdbcToLogical>]\r\n[Location: <ServerLoop>]\r\n[%msg: <Field 'SchemaName.TableName.amb_zaz_text_vector' (value '3F989CC6329BAEEFC70B9E00D6C1AD50@$vector') failed validation>]"
     ]
    }
   ],
   "source": [
    "## note the TO_VECTOR(?) used to add vector data type to the table\n",
    "## also note the \"str\" conversion of the embeddings from the dataframe before they are added to the table in IRIS\n",
    "# sql = f\"Insert into {tableName} (name, category, review_point, price, description, description_vector) values (?,?,?,?,?,TO_VECTOR(?))\"\n",
    "sql = f\"\"\"INSERT INTO {tableName} (ic_amb_zad, ic_amb_karta, ic_pac, \n",
    "                    dat_zad, cas_zad, prac_od, dg_kod, i_dg_kod, \n",
    "                    text_dg, i_text_dg, poz_text, amb_zaz_text, amb_zaz_text_vector) values (?,?,?,?,?,?,?,?,?,?,?,?, TO_VECTOR(?))\"\"\"\n",
    "\n",
    "start_time = time.time()\n",
    "for index,row in df.iterrows():\n",
    "    data = [(row['ic_amb_zad'], \n",
    "             row['ic_amb_karta'], \n",
    "             row['ic_pac'], \n",
    "             row['dat_zad'], \n",
    "             row['cas_zad'], \n",
    "             row['prac_od'], \n",
    "             row['dg_kod'], \n",
    "             row['i_dg_kod'], \n",
    "             row['text_dg'], \n",
    "             row['i_text_dg'], \n",
    "             row['poz_text'], \n",
    "             row['amb_zaz_text'], \n",
    "             str(row['amb_zaz_text_vector']))]\n",
    "    cursor.execute(sql, data)\n",
    "end_time = time.time()\n",
    "print(f\"time taken to add {len(df)} entries: {end_time-start_time} seconds\")"
   ]
  },
  {
   "cell_type": "markdown",
   "id": "3ce2b5f9-1c53-4c26-9163-bc4fc6ea4155",
   "metadata": {},
   "source": [
    "# Using IRIS Vector Search"
   ]
  },
  {
   "cell_type": "markdown",
   "id": "bc9c75a4-5f27-450f-9d91-69c1a27d2078",
   "metadata": {},
   "source": [
    "## Let's look for a scotch that costs less than $100, and has an earthy and creamy taste."
   ]
  },
  {
   "cell_type": "code",
   "execution_count": 76,
   "id": "dd09b8f4-100c-40dd-9f15-b7be7ae8dbc4",
   "metadata": {},
   "outputs": [],
   "source": [
    "# This is our search phrase\n",
    "searchPhrase = \"Počátek vyšetření\"\n",
    "\n",
    "# Convert search phrase into a vector\n",
    "searchVector = model.encode(searchPhrase, normalize_embeddings=True).tolist() "
   ]
  },
  {
   "cell_type": "code",
   "execution_count": 75,
   "id": "e85d16a3-07ee-4a98-9d79-9e6678d63559",
   "metadata": {},
   "outputs": [
    {
     "ename": "RuntimeError",
     "evalue": "[SQLCODE: <-257>:<Cannot perform vector operation on vectors of different lengths>]\r\n[Location: <ServerLoop - Query Open()>]\r\n[%msg: <Cannot perform vector operation on vectors of different lengths>]",
     "output_type": "error",
     "traceback": [
      "\u001b[0;31m---------------------------------------------------------------------------\u001b[0m",
      "\u001b[0;31mRuntimeError\u001b[0m                              Traceback (most recent call last)",
      "Cell \u001b[0;32mIn[75], line 11\u001b[0m\n\u001b[1;32m      8\u001b[0m numberOfResults \u001b[38;5;241m=\u001b[39m \u001b[38;5;241m3\u001b[39m\n\u001b[1;32m     10\u001b[0m \u001b[38;5;66;03m# Execute the query with the number of results and search vector as parameters\u001b[39;00m\n\u001b[0;32m---> 11\u001b[0m \u001b[43mcursor\u001b[49m\u001b[38;5;241;43m.\u001b[39;49m\u001b[43mexecute\u001b[49m\u001b[43m(\u001b[49m\u001b[43msql\u001b[49m\u001b[43m,\u001b[49m\u001b[43m \u001b[49m\u001b[43m[\u001b[49m\u001b[43mnumberOfResults\u001b[49m\u001b[43m,\u001b[49m\u001b[43m \u001b[49m\u001b[38;5;28;43mstr\u001b[39;49m\u001b[43m(\u001b[49m\u001b[43msearchVector\u001b[49m\u001b[43m)\u001b[49m\u001b[43m,\u001b[49m\u001b[43m \u001b[49m\u001b[38;5;28;43mstr\u001b[39;49m\u001b[43m(\u001b[49m\u001b[43msearchVector\u001b[49m\u001b[43m)\u001b[49m\u001b[43m]\u001b[49m\u001b[43m)\u001b[49m\n\u001b[1;32m     13\u001b[0m \u001b[38;5;66;03m# Fetch all results\u001b[39;00m\n\u001b[1;32m     14\u001b[0m results \u001b[38;5;241m=\u001b[39m cursor\u001b[38;5;241m.\u001b[39mfetchall()\n",
      "\u001b[0;31mRuntimeError\u001b[0m: [SQLCODE: <-257>:<Cannot perform vector operation on vectors of different lengths>]\r\n[Location: <ServerLoop - Query Open()>]\r\n[%msg: <Cannot perform vector operation on vectors of different lengths>]"
     ]
    }
   ],
   "source": [
    "sql = f\"\"\"\n",
    "    SELECT TOP ? VECTOR_DOT_PRODUCT(amb_zaz_text_vector, TO_VECTOR(?)) AS POMOC, *\n",
    "    FROM {tableName}\n",
    "    WHERE ic_pac=2127268\n",
    "    ORDER BY VECTOR_DOT_PRODUCT(amb_zaz_text_vector, TO_VECTOR(?)) DESC \n",
    "\"\"\"\n",
    "\n",
    "numberOfResults = 3\n",
    "\n",
    "# Execute the query with the number of results and search vector as parameters\n",
    "cursor.execute(sql, [numberOfResults, str(searchVector), str(searchVector)])\n",
    "\n",
    "# Fetch all results\n",
    "results = cursor.fetchall()\n",
    "for row in results:\n",
    "    print(row[:-1])\n"
   ]
  },
  {
   "cell_type": "code",
   "execution_count": null,
   "id": "bfff55e1-da62-495b-93c0-240286f2ff04",
   "metadata": {},
   "outputs": [],
   "source": []
  }
 ],
 "metadata": {
  "kernelspec": {
   "display_name": "Python 3 (ipykernel)",
   "language": "python",
   "name": "python3"
  },
  "language_info": {
   "codemirror_mode": {
    "name": "ipython",
    "version": 3
   },
   "file_extension": ".py",
   "mimetype": "text/x-python",
   "name": "python",
   "nbconvert_exporter": "python",
   "pygments_lexer": "ipython3",
   "version": "3.10.12"
  }
 },
 "nbformat": 4,
 "nbformat_minor": 5
}
